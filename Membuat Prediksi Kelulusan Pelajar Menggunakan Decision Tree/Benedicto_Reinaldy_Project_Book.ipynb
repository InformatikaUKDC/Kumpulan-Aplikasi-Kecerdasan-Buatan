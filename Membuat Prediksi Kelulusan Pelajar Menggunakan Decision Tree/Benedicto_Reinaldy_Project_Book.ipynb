{
  "nbformat": 4,
  "nbformat_minor": 0,
  "metadata": {
    "colab": {
      "name": "Benedicto Reinaldy_Project Book.ipynb",
      "provenance": [],
      "collapsed_sections": []
    },
    "kernelspec": {
      "name": "python3",
      "display_name": "Python 3"
    },
    "language_info": {
      "name": "python"
    }
  },
  "cells": [
    {
      "cell_type": "markdown",
      "source": [
        "## Menggunakan Decision Tree untuk memprediksi performa pelajar menggunakan data-data pelajar\n",
        "Tujuan dari project ini adalah untuk memprediksi apakah pelajar akan lulus atau tidak berdasarkan data-data yang sudah dikumpulkan \n",
        "\n",
        "Link Dataset : https://archive.ics.uci.edu/ml/datasets/student+performance"
      ],
      "metadata": {
        "id": "X8NIBIXrhYVG"
      }
    },
    {
      "cell_type": "code",
      "metadata": {
        "id": "12hBngoB5ywE"
      },
      "source": [
        "# import / load dataset yang akan digunakan dengan nama file student-por.csv\n",
        "import pandas as pd\n",
        "from google.colab import files\n",
        "uploaded = files.upload()\n",
        "d = pd.read_csv('student-por.csv', sep=';')"
      ],
      "execution_count": null,
      "outputs": []
    },
    {
      "cell_type": "code",
      "metadata": {
        "id": "2Cd0eO1G5_mv"
      },
      "source": [
        "# dari dataset yang di import berisikan total 649 data siswa\n",
        "len(d)"
      ],
      "execution_count": null,
      "outputs": []
    },
    {
      "cell_type": "markdown",
      "source": [
        "# Pada dataset tersebut terdapat 3 nilai yaitu G1, G2, dan G3 dimana,\n",
        "\n",
        "G1 --> nilai pertama\n",
        "\n",
        "G2 --> nilai kedua\n",
        "\n",
        "G3 --> nilai akhir\n",
        "\n",
        "Rentang nilai G1 adalah 0-20, demikian juga dengan G2 dan G3\n",
        "\n",
        "Indikator siswa lulus atau tidak lulus adalah dengan menjumlahkan nilai G1-G3, apabila nilai dari penjumlahan tersebut adalah lebih besar sama dengan 35 maka siswa tersebut dianggap lulus dan sebaliknya\n",
        "\n",
        "\n",
        "Indikator lulus atau tidak lulus menggunakan biner atau boolean dimana,\n",
        "\n",
        "1 (true) = lulus\n",
        "\n",
        "0 (false) = tidak lulus"
      ],
      "metadata": {
        "id": "3qRR4WeUikR1"
      }
    },
    {
      "cell_type": "code",
      "metadata": {
        "id": "0g2pVm9k6ca0"
      },
      "source": [
        "# menambahkan kolom baru yaitu 'pass' berdasarkan perhitungan penjumlahan G1-G3\n",
        "d['pass'] = d.apply(lambda row: 1 if (row['G1']+row['G2']+row['G3']) >= 35 else 0, axis=1)\n",
        "d = d.drop(['G1', 'G2', 'G3'], axis=1)\n",
        "d.head() # --> menampilkan 5 baris pertama dari dataset yang digunakan"
      ],
      "execution_count": null,
      "outputs": []
    },
    {
      "cell_type": "markdown",
      "source": [
        "## Menggunakan metode one-hot encoding untuk kolom-kolom yang menggunakan tipe biner/boolean. Lalu dikonversikan dan ditampilkan dalam bentuk biner."
      ],
      "metadata": {
        "id": "lcgZKHVPGS5P"
      }
    },
    {
      "cell_type": "code",
      "metadata": {
        "id": "lzY2vl4V67M9"
      },
      "source": [
        "# menggunakan one-hot encoding untuk kolom kategorikal (kolom yang menggunakan biner/bool)\n",
        "# konversikan ke biner \n",
        "d = pd.get_dummies(d, columns = ['sex', 'school', 'address', 'famsize', 'Pstatus', 'Mjob', 'Fjob',\n",
        "                                 'reason', 'guardian', 'schoolsup', 'famsup', 'paid', 'activities',\n",
        "                                 'nursery', 'higher', 'internet', 'romantic'])\n",
        "d.head()"
      ],
      "execution_count": null,
      "outputs": []
    },
    {
      "cell_type": "code",
      "metadata": {
        "id": "lDpsKl6N7qdD"
      },
      "source": [
        "# acak kolomnya\n",
        "d = d.sample(frac=1)\n",
        "# memisahkan data untuk training dan data untuk test\n",
        "d_train = d[:500]\n",
        "d_test = d[500:]\n",
        "\n",
        "d_train_att = d_train.drop(['pass'], axis=1)\n",
        "d_train_pass = d_train['pass']\n",
        "\n",
        "d_test_att = d_test.drop(['pass'], axis=1)\n",
        "d_test_pass = d_test['pass']\n",
        "\n",
        "d_att = d.drop(['pass'], axis=1)\n",
        "d_pass = d['pass']\n",
        "\n",
        "# dihitung banyaknya siswa pasif dalam dataset kita\n",
        "import numpy as np\n",
        "print(\"Passing %d out of %d (%.2f%%)\" % (np.sum(d_pass), len(d_pass), 100*float(np.sum(d_pass)) / len(d_pass)))"
      ],
      "execution_count": null,
      "outputs": []
    },
    {
      "cell_type": "markdown",
      "source": [
        "## Membuat model decision treenya"
      ],
      "metadata": {
        "id": "pjgwCebqvyNc"
      }
    },
    {
      "cell_type": "code",
      "metadata": {
        "id": "x3lFLTeA9dd0"
      },
      "source": [
        "# memasukkan ke model ke dalam decision tree\n",
        "from sklearn import tree\n",
        "t = tree.DecisionTreeClassifier(criterion=\"entropy\", max_depth=5)\n",
        "t = t.fit(d_train_att, d_train_pass)"
      ],
      "execution_count": null,
      "outputs": []
    },
    {
      "cell_type": "code",
      "metadata": {
        "id": "avo7TaWJ9yFI"
      },
      "source": [
        "# simpan modelnya\n",
        "tree.export_graphviz(t, out_file=\"student-performance.dot\", label=\"all\", impurity=False, proportion=True,\n",
        "                     feature_names=list(d_train_att), class_names=[\"fall\", \"pass\"],\n",
        "                     filled=True, rounded=True)"
      ],
      "execution_count": null,
      "outputs": []
    },
    {
      "cell_type": "code",
      "metadata": {
        "id": "i4HY4uuM-QLz"
      },
      "source": [
        "# perhitungan t.score berdasarkan d_test_att dan d_test_pass\n",
        "t.score(d_test_att, d_test_pass)"
      ],
      "execution_count": null,
      "outputs": []
    },
    {
      "cell_type": "code",
      "metadata": {
        "id": "5pASyq3_-fNq"
      },
      "source": [
        "from sklearn.model_selection import cross_val_score\n",
        "scores = cross_val_score(t, d_att, d_pass, cv=5)\n",
        "# menampilkan rata-rata skor siswa dan dua standar deviasinya \n",
        "print(\"Accuracy: %0.2f (+/- %0.2f)\" % (scores.mean(), scores.std() * 2))"
      ],
      "execution_count": null,
      "outputs": []
    },
    {
      "cell_type": "markdown",
      "source": [
        "## Melakukan cross validation pada seluruh dataset yang akan membagi data pada salah satu dari 20/80, di mana 20% adalah testing set dan 80% pada training set. Rata-rata hasilnya 67%. Ini menunjukkan bahwa kami memiliki kumpulan data yang seimbang. Di sini kami memiliki berbagai pilihan yang harus diambil terkait max_depth:"
      ],
      "metadata": {
        "id": "6WVZP08KkIV7"
      }
    },
    {
      "cell_type": "code",
      "metadata": {
        "id": "FQ6dDhQZ-1fn"
      },
      "source": [
        "for max_depth in range(1, 20):\n",
        "  t = tree.DecisionTreeClassifier(criterion=\"entropy\", max_depth=max_depth)\n",
        "  scores = cross_val_score(t, d_att, d_pass, cv=5)\n",
        "  print (\"Max depth: %d, Accuracy: %0.2f (+/- %0.2f)\" % (max_depth, scores.mean(), scores.std() * 2))"
      ],
      "execution_count": null,
      "outputs": []
    },
    {
      "cell_type": "code",
      "metadata": {
        "id": "e2pTYXQD_rUg"
      },
      "source": [
        "depth_acc = np.empty((19,3), float)\n",
        "i = 0\n",
        "for max_depth in range(1,20):\n",
        "  t = tree.DecisionTreeClassifier(criterion=\"entropy\", max_depth=max_depth)\n",
        "  scores = cross_val_score(t, d_att, d_pass, cv=5)\n",
        "  depth_acc[i,0] = max_depth\n",
        "  depth_acc[i,1] = scores.mean()\n",
        "  depth_acc[i,2] = scores.std() * 2\n",
        "  i += 1\n",
        "\n",
        "depth_acc"
      ],
      "execution_count": null,
      "outputs": []
    },
    {
      "cell_type": "code",
      "metadata": {
        "id": "PZKsL5A2ATVG"
      },
      "source": [
        "import matplotlib.pyplot as plt\n",
        "fig, ax = plt.subplots()\n",
        "ax.errorbar(depth_acc[:,0], depth_acc[:,1], yerr=depth_acc[:,2])\n",
        "plt.show()"
      ],
      "execution_count": null,
      "outputs": []
    }
  ]
}