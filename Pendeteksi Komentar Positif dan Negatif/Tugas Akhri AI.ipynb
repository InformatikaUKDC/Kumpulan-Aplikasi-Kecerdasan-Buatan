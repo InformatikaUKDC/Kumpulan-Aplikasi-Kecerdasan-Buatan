{
 "cells": [
  {
   "cell_type": "code",
   "execution_count": 1,
   "metadata": {
    "executionInfo": {
     "elapsed": 1327,
     "status": "ok",
     "timestamp": 1638753793765,
     "user": {
      "displayName": "Asak Buter",
      "photoUrl": "https://lh3.googleusercontent.com/a-/AOh14GiM5QtC1tjJMCYoLKN0KTtncBX8EqOCSGf3h-C5Aw=s64",
      "userId": "13463739713586851991"
     },
     "user_tz": -420
    },
    "id": "11MxDJr4UxeK"
   },
   "outputs": [],
   "source": [
    "import gensim, logging\n",
    "from gensim.models.doc2vec import TaggedDocument \n",
    "from gensim.models import Doc2Vec\n",
    "import random\n",
    "import re \n",
    "import os \n",
    "from sklearn.neighbors import KNeighborsClassifier\n",
    "from sklearn.ensemble import RandomForestClassifier\n",
    "from sklearn.model_selection import cross_val_score\n",
    "import numpy as np\n",
    "from sklearn.metrics.pairwise import cosine_similarity\n",
    "from sklearn.pipeline import make_pipeline\n",
    "from sklearn.feature_extraction.text import CountVectorizer, TfidfTransformer"
   ]
  },
  {
   "cell_type": "code",
   "execution_count": 2,
   "metadata": {
    "executionInfo": {
     "elapsed": 3,
     "status": "ok",
     "timestamp": 1638755533131,
     "user": {
      "displayName": "Asak Buter",
      "photoUrl": "https://lh3.googleusercontent.com/a-/AOh14GiM5QtC1tjJMCYoLKN0KTtncBX8EqOCSGf3h-C5Aw=s64",
      "userId": "13463739713586851991"
     },
     "user_tz": -420
    },
    "id": "DJG9g8RvZsoU"
   },
   "outputs": [],
   "source": [
    "logging.basicConfig(format='%(asctime)s : %(levelname)s : %(message)s', level=logging.INFO)"
   ]
  },
  {
   "cell_type": "code",
   "execution_count": 3,
   "metadata": {
    "colab": {
     "base_uri": "https://localhost:8080/",
     "height": 336
    },
    "executionInfo": {
     "elapsed": 410,
     "status": "error",
     "timestamp": 1638756921841,
     "user": {
      "displayName": "Asak Buter",
      "photoUrl": "https://lh3.googleusercontent.com/a-/AOh14GiM5QtC1tjJMCYoLKN0KTtncBX8EqOCSGf3h-C5Aw=s64",
      "userId": "13463739713586851991"
     },
     "user_tz": -420
    },
    "id": "h0o-O5GpbvrR",
    "outputId": "f6c81abc-87be-413d-f9f7-297198cf7b8d"
   },
   "outputs": [
    {
     "name": "stderr",
     "output_type": "stream",
     "text": [
      "2022-01-27 14:50:28,669 : INFO : loading projection weights from GoogleNews-vectors-negative300.bin\n",
      "2022-01-27 14:50:54,436 : INFO : KeyedVectors lifecycle event {'msg': 'loaded (3000000, 300) matrix of type float32 from GoogleNews-vectors-negative300.bin', 'binary': True, 'encoding': 'utf8', 'datetime': '2022-01-27T14:50:54.428210', 'gensim': '4.1.2', 'python': '3.8.8 (default, Apr 13 2021, 15:08:03) [MSC v.1916 64 bit (AMD64)]', 'platform': 'Windows-10-10.0.22538-SP0', 'event': 'load_word2vec_format'}\n"
     ]
    }
   ],
   "source": [
    "gmodel = gensim.models.KeyedVectors.load_word2vec_format('GoogleNews-vectors-negative300.bin', binary=True) "
   ]
  },
  {
   "cell_type": "code",
   "execution_count": 4,
   "metadata": {},
   "outputs": [
    {
     "data": {
      "text/plain": [
       "array([ 0.0123291 ,  0.20410156, -0.28515625,  0.21679688,  0.11816406,\n",
       "        0.08300781,  0.04980469, -0.00952148,  0.22070312, -0.12597656,\n",
       "        0.08056641, -0.5859375 , -0.00445557, -0.296875  , -0.01312256,\n",
       "       -0.08349609,  0.05053711,  0.15136719, -0.44921875, -0.0135498 ,\n",
       "        0.21484375, -0.14746094,  0.22460938, -0.125     , -0.09716797,\n",
       "        0.24902344, -0.2890625 ,  0.36523438,  0.41210938, -0.0859375 ,\n",
       "       -0.07861328, -0.19726562, -0.09082031, -0.14160156, -0.10253906,\n",
       "        0.13085938, -0.00346375,  0.07226562,  0.04418945,  0.34570312,\n",
       "        0.07470703, -0.11230469,  0.06738281,  0.11230469,  0.01977539,\n",
       "       -0.12353516,  0.20996094, -0.07226562, -0.02783203,  0.05541992,\n",
       "       -0.33398438,  0.08544922,  0.34375   ,  0.13964844,  0.04931641,\n",
       "       -0.13476562,  0.16308594, -0.37304688,  0.39648438,  0.10693359,\n",
       "        0.22167969,  0.21289062, -0.08984375,  0.20703125,  0.08935547,\n",
       "       -0.08251953,  0.05957031,  0.10205078, -0.19238281, -0.09082031,\n",
       "        0.4921875 ,  0.03955078, -0.07080078, -0.0019989 , -0.23046875,\n",
       "        0.25585938,  0.08984375, -0.10644531,  0.00105286, -0.05883789,\n",
       "        0.05102539, -0.0291748 ,  0.19335938, -0.14160156, -0.33398438,\n",
       "        0.08154297, -0.27539062,  0.10058594, -0.10449219, -0.12353516,\n",
       "       -0.140625  ,  0.03491211, -0.11767578, -0.1796875 , -0.21484375,\n",
       "       -0.23828125,  0.08447266, -0.07519531, -0.25976562, -0.21289062,\n",
       "       -0.22363281, -0.09716797,  0.11572266,  0.15429688,  0.07373047,\n",
       "       -0.27539062,  0.14257812, -0.0201416 ,  0.10009766, -0.19042969,\n",
       "       -0.09375   ,  0.14160156,  0.17089844,  0.3125    , -0.16699219,\n",
       "       -0.08691406, -0.05004883, -0.24902344, -0.20800781, -0.09423828,\n",
       "       -0.12255859, -0.09472656, -0.390625  , -0.06640625, -0.31640625,\n",
       "        0.10986328, -0.00156403,  0.04345703,  0.15625   , -0.18945312,\n",
       "       -0.03491211,  0.03393555, -0.14453125,  0.01611328, -0.14160156,\n",
       "       -0.02392578,  0.01501465,  0.07568359,  0.10742188,  0.12695312,\n",
       "        0.10693359, -0.01184082, -0.24023438,  0.0291748 ,  0.16210938,\n",
       "        0.19921875, -0.28125   ,  0.16699219, -0.11621094, -0.25585938,\n",
       "        0.38671875, -0.06640625, -0.4609375 , -0.06176758, -0.14453125,\n",
       "       -0.11621094,  0.05688477,  0.03588867, -0.10693359,  0.18847656,\n",
       "       -0.16699219, -0.01794434,  0.10986328, -0.12353516, -0.16308594,\n",
       "       -0.14453125,  0.12890625,  0.11523438,  0.13671875,  0.05688477,\n",
       "       -0.08105469, -0.06152344, -0.06689453,  0.27929688, -0.19628906,\n",
       "        0.07226562,  0.12304688, -0.20996094, -0.22070312,  0.21386719,\n",
       "       -0.1484375 , -0.05932617,  0.05224609,  0.06445312, -0.02636719,\n",
       "        0.13183594,  0.19433594,  0.27148438,  0.18652344,  0.140625  ,\n",
       "        0.06542969, -0.14453125,  0.05029297,  0.08837891,  0.12255859,\n",
       "        0.26757812,  0.0534668 , -0.32226562, -0.20703125,  0.18164062,\n",
       "        0.04418945, -0.22167969, -0.13769531, -0.04174805, -0.00286865,\n",
       "        0.04077148,  0.07275391, -0.08300781,  0.08398438, -0.3359375 ,\n",
       "       -0.40039062,  0.01757812, -0.18652344, -0.0480957 , -0.19140625,\n",
       "        0.10107422,  0.09277344, -0.30664062, -0.19921875, -0.0168457 ,\n",
       "        0.12207031,  0.14648438, -0.12890625, -0.23535156, -0.05371094,\n",
       "       -0.06640625,  0.06884766, -0.03637695,  0.2109375 , -0.06005859,\n",
       "        0.19335938,  0.05151367, -0.05322266,  0.02893066, -0.27539062,\n",
       "        0.08447266,  0.328125  ,  0.01818848,  0.01495361,  0.04711914,\n",
       "        0.37695312, -0.21875   , -0.03393555,  0.01116943,  0.36914062,\n",
       "        0.02160645,  0.03466797,  0.07275391,  0.16015625, -0.16503906,\n",
       "       -0.296875  ,  0.15039062, -0.29101562,  0.13964844,  0.00448608,\n",
       "        0.171875  , -0.21972656,  0.09326172, -0.19042969,  0.01599121,\n",
       "       -0.09228516,  0.15722656, -0.14160156, -0.0534668 ,  0.03613281,\n",
       "        0.23632812, -0.15136719, -0.00689697, -0.27148438, -0.07128906,\n",
       "       -0.16503906,  0.18457031, -0.08398438,  0.18554688,  0.11669922,\n",
       "        0.02758789, -0.04760742,  0.17871094,  0.06542969, -0.03540039,\n",
       "        0.22949219,  0.02697754, -0.09765625,  0.26953125,  0.08349609,\n",
       "       -0.13085938, -0.10107422, -0.00738525,  0.07128906,  0.14941406,\n",
       "       -0.20605469,  0.18066406, -0.15820312,  0.05932617,  0.28710938,\n",
       "       -0.04663086,  0.15136719,  0.4921875 , -0.27539062,  0.05615234],\n",
       "      dtype=float32)"
      ]
     },
     "execution_count": 4,
     "metadata": {},
     "output_type": "execute_result"
    }
   ],
   "source": [
    "gmodel['cat']"
   ]
  },
  {
   "cell_type": "code",
   "execution_count": 5,
   "metadata": {},
   "outputs": [
    {
     "data": {
      "text/plain": [
       "array([ 5.12695312e-02, -2.23388672e-02, -1.72851562e-01,  1.61132812e-01,\n",
       "       -8.44726562e-02,  5.73730469e-02,  5.85937500e-02, -8.25195312e-02,\n",
       "       -1.53808594e-02, -6.34765625e-02,  1.79687500e-01, -4.23828125e-01,\n",
       "       -2.25830078e-02, -1.66015625e-01, -2.51464844e-02,  1.07421875e-01,\n",
       "       -1.99218750e-01,  1.59179688e-01, -1.87500000e-01, -1.20117188e-01,\n",
       "        1.55273438e-01, -9.91210938e-02,  1.42578125e-01, -1.64062500e-01,\n",
       "       -8.93554688e-02,  2.00195312e-01, -1.49414062e-01,  3.20312500e-01,\n",
       "        3.28125000e-01,  2.44140625e-02, -9.71679688e-02, -8.20312500e-02,\n",
       "       -3.63769531e-02, -8.59375000e-02, -9.86328125e-02,  7.78198242e-03,\n",
       "       -1.34277344e-02,  5.27343750e-02,  1.48437500e-01,  3.33984375e-01,\n",
       "        1.66015625e-02, -2.12890625e-01, -1.50756836e-02,  5.24902344e-02,\n",
       "       -1.07421875e-01, -8.88671875e-02,  2.49023438e-01, -7.03125000e-02,\n",
       "       -1.59912109e-02,  7.56835938e-02, -7.03125000e-02,  1.19140625e-01,\n",
       "        2.29492188e-01,  1.41601562e-02,  1.15234375e-01,  7.50732422e-03,\n",
       "        2.75390625e-01, -2.44140625e-01,  2.96875000e-01,  3.49121094e-02,\n",
       "        2.42187500e-01,  1.35742188e-01,  1.42578125e-01,  1.75781250e-02,\n",
       "        2.92968750e-02, -1.21582031e-01,  2.28271484e-02, -4.76074219e-02,\n",
       "       -1.55273438e-01,  3.14331055e-03,  3.45703125e-01,  1.22558594e-01,\n",
       "       -1.95312500e-01,  8.10546875e-02, -6.83593750e-02, -1.47094727e-02,\n",
       "        2.14843750e-01, -1.21093750e-01,  1.57226562e-01, -2.07031250e-01,\n",
       "        1.36718750e-01, -1.29882812e-01,  5.29785156e-02, -2.71484375e-01,\n",
       "       -2.98828125e-01, -1.84570312e-01, -2.29492188e-01,  1.19140625e-01,\n",
       "        1.53198242e-02, -2.61718750e-01, -1.23046875e-01, -1.86767578e-02,\n",
       "       -6.49414062e-02, -8.15429688e-02,  7.86132812e-02, -3.53515625e-01,\n",
       "        5.24902344e-02, -2.45361328e-02, -5.43212891e-03, -2.08984375e-01,\n",
       "       -2.10937500e-01, -1.79687500e-01,  2.42187500e-01,  2.57812500e-01,\n",
       "        1.37695312e-01, -2.10937500e-01, -2.17285156e-02, -1.38671875e-01,\n",
       "        1.84326172e-02, -1.23901367e-02, -1.59179688e-01,  1.61132812e-01,\n",
       "        2.08007812e-01,  1.03027344e-01,  9.81445312e-02, -6.83593750e-02,\n",
       "       -8.72802734e-03, -2.89062500e-01, -2.14843750e-01, -1.14257812e-01,\n",
       "       -2.21679688e-01,  4.12597656e-02, -3.12500000e-01, -5.59082031e-02,\n",
       "       -9.76562500e-02,  5.81054688e-02, -4.05273438e-02, -1.73828125e-01,\n",
       "        1.64062500e-01, -2.53906250e-01, -1.54296875e-01, -2.31933594e-02,\n",
       "       -2.38281250e-01,  2.07519531e-02, -2.73437500e-01,  3.90625000e-03,\n",
       "        1.13769531e-01, -1.73828125e-01,  2.57812500e-01,  2.35351562e-01,\n",
       "        5.22460938e-02,  6.83593750e-02, -1.75781250e-01,  1.60156250e-01,\n",
       "       -5.98907471e-04,  5.98144531e-02, -2.11914062e-01, -5.54199219e-02,\n",
       "       -7.51953125e-02, -3.06640625e-01,  4.27734375e-01,  5.32226562e-02,\n",
       "       -2.08984375e-01, -5.71289062e-02, -2.09960938e-01,  3.29589844e-02,\n",
       "        1.05468750e-01, -1.50390625e-01, -9.37500000e-02,  1.16699219e-01,\n",
       "        6.44531250e-02,  2.80761719e-02,  2.41210938e-01, -1.25976562e-01,\n",
       "       -1.00585938e-01, -1.22680664e-02, -3.26156616e-04,  1.58691406e-02,\n",
       "        1.27929688e-01, -3.32031250e-02,  4.07714844e-02, -1.31835938e-01,\n",
       "        9.81445312e-02,  1.74804688e-01, -2.36328125e-01,  5.17578125e-02,\n",
       "        1.83593750e-01,  2.42919922e-02, -4.31640625e-01,  2.46093750e-01,\n",
       "       -3.03955078e-02, -2.47802734e-02, -1.17187500e-01,  1.61132812e-01,\n",
       "       -5.71289062e-02,  1.16577148e-02,  2.81250000e-01,  4.27734375e-01,\n",
       "        4.56542969e-02,  1.01074219e-01, -3.95507812e-02,  1.77001953e-02,\n",
       "       -8.98437500e-02,  1.35742188e-01,  2.08007812e-01,  1.88476562e-01,\n",
       "       -1.52343750e-01, -2.37304688e-01, -1.90429688e-01,  7.12890625e-02,\n",
       "       -2.46093750e-01, -2.61718750e-01, -2.34375000e-01, -1.45507812e-01,\n",
       "       -1.17187500e-02, -1.50390625e-01, -1.13281250e-01,  1.82617188e-01,\n",
       "        2.63671875e-01, -1.37695312e-01, -4.58984375e-01, -4.68750000e-02,\n",
       "       -1.26953125e-01, -4.22363281e-02, -1.66992188e-01,  1.26953125e-01,\n",
       "        2.59765625e-01, -2.44140625e-01, -2.19726562e-01, -8.69140625e-02,\n",
       "        1.59179688e-01, -3.78417969e-02,  8.97216797e-03, -2.77343750e-01,\n",
       "       -1.04980469e-01, -1.75781250e-01,  2.28515625e-01, -2.70996094e-02,\n",
       "        2.85156250e-01, -2.73437500e-01,  1.61132812e-02,  5.90820312e-02,\n",
       "       -2.39257812e-01,  1.77734375e-01, -1.34765625e-01,  1.38671875e-01,\n",
       "        3.53515625e-01,  1.22070312e-01,  1.43554688e-01,  9.22851562e-02,\n",
       "        2.29492188e-01, -3.00781250e-01, -4.88281250e-02, -1.79687500e-01,\n",
       "        2.96875000e-01,  1.75781250e-01,  4.80957031e-02, -3.38745117e-03,\n",
       "        7.91015625e-02, -2.38281250e-01, -2.31445312e-01,  1.66015625e-01,\n",
       "       -2.13867188e-01, -7.03125000e-02, -7.56835938e-02,  1.96289062e-01,\n",
       "       -1.29882812e-01, -1.05957031e-01, -3.53515625e-01, -1.16699219e-01,\n",
       "       -5.10253906e-02,  3.39355469e-02, -1.43554688e-01, -3.90625000e-03,\n",
       "        1.73828125e-01, -9.96093750e-02, -1.66015625e-01, -8.54492188e-02,\n",
       "       -3.82812500e-01,  5.90820312e-02, -6.22558594e-02,  8.83789062e-02,\n",
       "       -8.88671875e-02,  3.28125000e-01,  6.83593750e-02, -1.91406250e-01,\n",
       "       -8.35418701e-04,  1.04003906e-01,  1.52343750e-01, -1.53350830e-03,\n",
       "        4.16015625e-01, -3.32031250e-02,  1.49414062e-01,  2.42187500e-01,\n",
       "       -1.76757812e-01, -4.93164062e-02, -1.24511719e-01,  1.25976562e-01,\n",
       "        1.74804688e-01,  2.81250000e-01, -1.80664062e-01,  1.03027344e-01,\n",
       "       -2.75390625e-01,  2.61718750e-01,  2.46093750e-01, -4.71191406e-02,\n",
       "        6.25000000e-02,  4.16015625e-01, -3.55468750e-01,  2.22656250e-01],\n",
       "      dtype=float32)"
      ]
     },
     "execution_count": 5,
     "metadata": {},
     "output_type": "execute_result"
    }
   ],
   "source": [
    "gmodel['dog']"
   ]
  },
  {
   "cell_type": "code",
   "execution_count": 6,
   "metadata": {},
   "outputs": [
    {
     "data": {
      "text/plain": [
       "array([-0.19140625, -0.04296875,  0.27539062,  0.00488281, -0.3203125 ,\n",
       "        0.08203125,  0.05566406, -0.03613281, -0.31445312,  0.10693359,\n",
       "       -0.359375  ,  0.29882812,  0.02331543,  0.05517578, -0.140625  ,\n",
       "        0.1953125 , -0.23632812, -0.22167969, -0.06542969, -0.3359375 ,\n",
       "        0.25195312, -0.09326172,  0.54296875,  0.11328125, -0.28710938,\n",
       "       -0.12011719, -0.11181641,  0.20996094, -0.33203125,  0.30273438,\n",
       "       -0.3359375 , -0.12255859,  0.12890625, -0.28515625, -0.04223633,\n",
       "        0.25585938,  0.3203125 ,  0.07177734,  0.19042969, -0.01379395,\n",
       "        0.16992188, -0.22460938,  0.5078125 ,  0.08398438, -0.07519531,\n",
       "       -0.06396484,  0.05371094,  0.34570312,  0.46289062, -0.16699219,\n",
       "       -0.30664062,  0.15234375, -0.09765625, -0.26171875, -0.14160156,\n",
       "        0.2265625 ,  0.49609375, -0.10791016, -0.08447266,  0.234375  ,\n",
       "        0.04931641, -0.07128906,  0.05273438, -0.11914062,  0.09814453,\n",
       "        0.11181641, -0.13574219, -0.46875   ,  0.26171875,  0.12158203,\n",
       "        0.31445312,  0.05810547,  0.0703125 , -0.10107422, -0.27734375,\n",
       "       -0.16796875, -0.07128906, -0.08007812,  0.07226562, -0.1484375 ,\n",
       "        0.22949219,  0.03686523, -0.03857422,  0.00616455, -0.12255859,\n",
       "       -0.01940918, -0.0625    ,  0.26953125,  0.34179688, -0.00427246,\n",
       "       -0.49023438, -0.38867188, -0.24316406,  0.12304688,  0.07421875,\n",
       "       -0.25195312,  0.14941406, -0.265625  ,  0.30859375, -0.05834961,\n",
       "       -0.19726562, -0.14941406,  0.01031494, -0.07275391, -0.23632812,\n",
       "       -0.1484375 ,  0.3046875 , -0.10351562,  0.69140625, -0.29492188,\n",
       "       -0.25976562, -0.29296875,  0.31445312, -0.11083984, -0.5       ,\n",
       "       -0.04443359,  0.10058594,  0.04858398, -0.0625    ,  0.02001953,\n",
       "        0.08837891, -0.10058594, -0.00113678,  0.390625  ,  0.16894531,\n",
       "        0.01318359,  0.15625   ,  0.10595703,  0.29296875,  0.18457031,\n",
       "        0.13867188,  0.15820312, -0.38671875,  0.20214844,  0.17285156,\n",
       "        0.578125  , -0.05029297, -0.34179688,  0.46875   ,  0.34765625,\n",
       "        0.23535156, -0.20996094, -0.32226562, -0.26367188, -0.02160645,\n",
       "        0.50390625, -0.31054688, -0.2265625 ,  0.31640625, -0.14550781,\n",
       "        0.05639648, -0.18847656,  0.05126953,  0.73828125,  0.04174805,\n",
       "       -0.02392578, -0.375     , -0.18847656, -0.0625    ,  0.50390625,\n",
       "       -0.02844238, -0.05615234,  0.26367188, -0.0612793 ,  0.06030273,\n",
       "       -0.171875  , -0.00866699,  0.20019531, -0.03173828, -0.18164062,\n",
       "        0.40429688, -0.03710938, -0.03515625,  0.18261719, -0.47070312,\n",
       "       -0.07275391,  0.32617188, -0.17285156, -0.22265625,  0.27929688,\n",
       "       -0.57421875,  0.07275391,  0.20898438, -0.30273438,  0.19335938,\n",
       "        0.04907227, -0.15820312, -0.17675781,  0.18066406,  0.42773438,\n",
       "       -0.25390625,  0.29101562, -0.04760742, -0.28710938, -0.08837891,\n",
       "        0.28710938, -0.3828125 , -0.13574219,  0.05297852, -0.22265625,\n",
       "       -0.09179688, -0.06738281, -0.53125   ,  0.06933594,  0.02514648,\n",
       "        0.04443359, -0.18457031, -0.31054688,  0.02856445,  0.16992188,\n",
       "        0.01196289, -0.12109375,  0.00430298,  0.171875  ,  0.06640625,\n",
       "       -0.02954102, -0.39453125,  0.515625  ,  0.2109375 ,  0.03637695,\n",
       "       -0.390625  , -0.04980469, -0.13378906, -0.19140625, -0.34375   ,\n",
       "       -0.21289062,  0.375     ,  0.03039551,  0.1796875 , -0.37109375,\n",
       "        0.07763672, -0.07666016,  0.07910156, -0.15234375, -0.15429688,\n",
       "       -0.15039062,  0.12304688,  0.1796875 , -0.19335938,  0.125     ,\n",
       "        0.17285156,  0.03173828,  0.24121094, -0.34765625, -0.15136719,\n",
       "       -0.09619141,  0.09326172,  0.13964844, -0.20410156, -0.3671875 ,\n",
       "        0.02368164, -0.24804688,  0.17578125,  0.22460938,  0.18652344,\n",
       "       -0.44921875, -0.1640625 , -0.08837891,  0.1484375 , -0.0480957 ,\n",
       "        0.23144531, -0.06176758, -0.53125   , -0.23730469, -0.26953125,\n",
       "        0.02770996, -0.09667969, -0.05249023, -0.00543213, -0.05981445,\n",
       "        0.3203125 ,  0.34570312, -0.06591797, -0.05786133,  0.54296875,\n",
       "       -0.17675781, -0.05810547, -0.0378418 , -0.14550781, -0.265625  ,\n",
       "       -0.01153564,  0.3515625 ,  0.2421875 ,  0.24023438,  0.01025391,\n",
       "       -0.31445312, -0.20410156, -0.02172852, -0.21386719,  0.52734375,\n",
       "        0.12451172,  0.16113281, -0.46289062,  0.05126953, -0.02648926,\n",
       "       -0.546875  ,  0.30859375, -0.0534668 , -0.34765625,  0.3984375 ],\n",
       "      dtype=float32)"
      ]
     },
     "execution_count": 6,
     "metadata": {},
     "output_type": "execute_result"
    }
   ],
   "source": [
    "gmodel['spatula']"
   ]
  },
  {
   "cell_type": "code",
   "execution_count": 7,
   "metadata": {},
   "outputs": [
    {
     "data": {
      "text/plain": [
       "0.7609457"
      ]
     },
     "execution_count": 7,
     "metadata": {},
     "output_type": "execute_result"
    }
   ],
   "source": [
    "gmodel.similarity('cat', 'dog')"
   ]
  },
  {
   "cell_type": "code",
   "execution_count": 8,
   "metadata": {},
   "outputs": [
    {
     "data": {
      "text/plain": [
       "0.12412614"
      ]
     },
     "execution_count": 8,
     "metadata": {},
     "output_type": "execute_result"
    }
   ],
   "source": [
    "gmodel.similarity('cat','spatula')"
   ]
  },
  {
   "cell_type": "code",
   "execution_count": 9,
   "metadata": {},
   "outputs": [],
   "source": [
    "def ekstrak_kata(terkirim):\n",
    "    terkirim = terkirim.lower()\n",
    "    terkirim = re.sub(r'<[^>]+>',' ', terkirim) # strip html tags \n",
    "    terkirim = re.sub(r'(\\w)\\'(\\w)', '\\1\\2', terkirim) # remove apostrophes\n",
    "    terkirim = re.sub(r'\\W',' ', terkirim) # remove punctuation\n",
    "    terkirim = re.sub(r'\\s+',' ', terkirim)# remove repeated spaces \n",
    "    terkirim = terkirim.strip()\n",
    "    return terkirim.split()"
   ]
  },
  {
   "cell_type": "code",
   "execution_count": 10,
   "metadata": {},
   "outputs": [],
   "source": [
    "# unsupervised training data \n",
    "unsup_sentences = []\n",
    "# link: http://ai.stanford.edu/~amaas/data/sentiment/, data mentah dari folder IMDB\n",
    "for dirname in [\"train/pos\", \"train/neg\", \"train/unsup\", \"test/pos\", \"test/neg\"] :\n",
    "    for fname in sorted(os.listdir(\"aclImdb/\" + dirname)):\n",
    "        if fname[-4:] == '.txt':\n",
    "            with open(\"aclImdb/\" + dirname + \"/\"+ fname, encoding = 'UTF-8') as f: \n",
    "                terkirim = f.read()\n",
    "                words = ekstrak_kata(terkirim)\n",
    "                unsup_sentences.append(TaggedDocument(words, [dirname + \"/\" + fname])) \n",
    "# link: http://w.cs.cormeld.edu/people/pabo/movie-review-data \n",
    "for dirname in [\"txt_sentoken/pos\", \"txt_sentoken/neg\"]:\n",
    "    for fname in sorted(os.listdir(dirname)) :\n",
    "        if fname[-4:] == '.txt':\n",
    "            with open(dirname + '/' +  fname, encoding = 'UTF-8') as f:\n",
    "                for i, terkirim in enumerate(f):\n",
    "                    words = ekstrak_kata(terkirim)\n",
    "                    unsup_sentences.append(TaggedDocument(words, [\"%s/%s-%d\" % (dirname, fname, i)])) \n",
    "#link: https://nip.Stanford.edu/sentiment/, data mentah dari folder Rotten Tomatoes \n",
    "with open(\"stanfordSentimentTreebank/original_rt_snippets.txt\", encoding = 'UTF-8') as f:\n",
    "    for i, line in enumerate(f): \n",
    "        words =  ekstrak_kata(terkirim) \n",
    "        unsup_sentences.append(TaggedDocument (words, [\"rt-%d\" % i]))"
   ]
  },
  {
   "cell_type": "code",
   "execution_count": 11,
   "metadata": {},
   "outputs": [
    {
     "data": {
      "text/plain": [
       "175325"
      ]
     },
     "execution_count": 11,
     "metadata": {},
     "output_type": "execute_result"
    }
   ],
   "source": [
    "len(unsup_sentences) "
   ]
  },
  {
   "cell_type": "code",
   "execution_count": 12,
   "metadata": {},
   "outputs": [
    {
     "data": {
      "text/plain": [
       "[TaggedDocument(words=['bromwell', 'high', 'is', 'a', 'cartoon', 'comedy', 'it', 'ran', 'at', 'the', 'same', 'time', 'as', 'some', 'other', 'programs', 'about', 'school', 'life', 'such', 'as', 'teachers', 'my', '35', 'years', 'in', 'the', 'teaching', 'profession', 'lead', 'me', 'to', 'believe', 'that', 'bromwell', 'hig', 'satire', 'is', 'much', 'closer', 'to', 'reality', 'than', 'is', 'teachers', 'the', 'scramble', 'to', 'survive', 'financially', 'the', 'insightful', 'students', 'who', 'can', 'see', 'right', 'through', 'their', 'pathetic', 'teachers', 'pomp', 'the', 'pettiness', 'of', 'the', 'whole', 'situation', 'all', 'remind', 'me', 'of', 'the', 'schools', 'i', 'knew', 'and', 'their', 'students', 'when', 'i', 'saw', 'the', 'episode', 'in', 'which', 'a', 'student', 'repeatedly', 'tried', 'to', 'burn', 'down', 'the', 'school', 'i', 'immediately', 'recalled', 'at', 'high', 'a', 'classic', 'line', 'inspector', 'here', 'to', 'sack', 'one', 'of', 'your', 'teachers', 'student', 'welcome', 'to', 'bromwell', 'high', 'i', 'expect', 'that', 'many', 'adults', 'of', 'my', 'age', 'think', 'that', 'bromwell', 'high', 'is', 'far', 'fetched', 'what', 'a', 'pity', 'that', 'it', 'is'], tags=['train/pos/0_9.txt'])]"
      ]
     },
     "execution_count": 12,
     "metadata": {},
     "output_type": "execute_result"
    }
   ],
   "source": [
    "unsup_sentences[0:1]"
   ]
  },
  {
   "cell_type": "code",
   "execution_count": 13,
   "metadata": {},
   "outputs": [],
   "source": [
    "class PermuteSentences(object):\n",
    "    def __init__(self, terkirim):\n",
    "        self.terkirim = terkirim\n",
    "        \n",
    "    def __iter__(self):\n",
    "        shuffled = list(self.terkirim)\n",
    "        random.shuffle(shuffled)\n",
    "        for terkirim in shuffled:\n",
    "            yield terkirim"
   ]
  },
  {
   "cell_type": "code",
   "execution_count": 14,
   "metadata": {},
   "outputs": [
    {
     "name": "stderr",
     "output_type": "stream",
     "text": [
      "2022-01-27 14:52:20,560 : INFO : collecting all words and their counts\n",
      "2022-01-27 14:52:20,710 : INFO : PROGRESS: at example #0, processed 0 words (0/s), 0 word types, 0 tags\n",
      "2022-01-27 14:52:21,137 : INFO : PROGRESS: at example #10000, processed 1394634 words (3268441/s), 44924 word types, 10000 tags\n",
      "2022-01-27 14:52:21,581 : INFO : PROGRESS: at example #20000, processed 2867668 words (3321721/s), 61787 word types, 20000 tags\n",
      "2022-01-27 14:52:22,038 : INFO : PROGRESS: at example #30000, processed 4271806 words (3079743/s), 73346 word types, 30000 tags\n",
      "2022-01-27 14:52:22,490 : INFO : PROGRESS: at example #40000, processed 5668510 words (3095865/s), 83033 word types, 40000 tags\n",
      "2022-01-27 14:52:22,956 : INFO : PROGRESS: at example #50000, processed 7073236 words (3022300/s), 91385 word types, 50000 tags\n",
      "2022-01-27 14:52:24,054 : INFO : PROGRESS: at example #60000, processed 8487804 words (1289903/s), 98618 word types, 60000 tags\n",
      "2022-01-27 14:52:24,465 : INFO : PROGRESS: at example #70000, processed 9893777 words (3429496/s), 105399 word types, 70000 tags\n",
      "2022-01-27 14:52:24,864 : INFO : PROGRESS: at example #80000, processed 11295391 words (3522300/s), 111456 word types, 80000 tags\n",
      "2022-01-27 14:52:25,278 : INFO : PROGRESS: at example #90000, processed 12708611 words (3420103/s), 117110 word types, 90000 tags\n",
      "2022-01-27 14:52:25,691 : INFO : PROGRESS: at example #100000, processed 14099108 words (3374060/s), 122327 word types, 100000 tags\n",
      "2022-01-27 14:52:26,051 : INFO : PROGRESS: at example #110000, processed 15497701 words (3894104/s), 127282 word types, 110000 tags\n",
      "2022-01-27 14:52:26,439 : INFO : PROGRESS: at example #120000, processed 16901659 words (3625897/s), 131931 word types, 120000 tags\n",
      "2022-01-27 14:52:26,826 : INFO : PROGRESS: at example #130000, processed 18302279 words (3629498/s), 136554 word types, 130000 tags\n",
      "2022-01-27 14:52:27,201 : INFO : PROGRESS: at example #140000, processed 19728891 words (3832104/s), 140788 word types, 140000 tags\n",
      "2022-01-27 14:52:27,563 : INFO : PROGRESS: at example #150000, processed 21133976 words (3884424/s), 145197 word types, 150000 tags\n",
      "2022-01-27 14:52:27,911 : INFO : PROGRESS: at example #160000, processed 22543823 words (4067405/s), 149415 word types, 160000 tags\n",
      "2022-01-27 14:52:28,271 : INFO : PROGRESS: at example #170000, processed 23946933 words (3905747/s), 153259 word types, 170000 tags\n",
      "2022-01-27 14:52:29,482 : INFO : collected 155374 word types and 175325 unique tags from a corpus of 175325 examples and 24693510 words\n",
      "2022-01-27 14:52:29,482 : INFO : Creating a fresh vocabulary\n",
      "2022-01-27 14:52:29,748 : INFO : Doc2Vec lifecycle event {'msg': 'effective_min_count=5 retains 57730 unique words (37.155508643659815%% of original 155374, drops 97644)', 'datetime': '2022-01-27T14:52:29.748460', 'gensim': '4.1.2', 'python': '3.8.8 (default, Apr 13 2021, 15:08:03) [MSC v.1916 64 bit (AMD64)]', 'platform': 'Windows-10-10.0.22538-SP0', 'event': 'prepare_vocab'}\n",
      "2022-01-27 14:52:29,748 : INFO : Doc2Vec lifecycle event {'msg': 'effective_min_count=5 leaves 24537325 word corpus (99.36750587502546%% of original 24693510, drops 156185)', 'datetime': '2022-01-27T14:52:29.748460', 'gensim': '4.1.2', 'python': '3.8.8 (default, Apr 13 2021, 15:08:03) [MSC v.1916 64 bit (AMD64)]', 'platform': 'Windows-10-10.0.22538-SP0', 'event': 'prepare_vocab'}\n",
      "2022-01-27 14:52:30,089 : INFO : deleting the raw counts dictionary of 155374 items\n",
      "2022-01-27 14:52:30,097 : INFO : sample=0.001 downsamples 47 most-common words\n",
      "2022-01-27 14:52:30,098 : INFO : Doc2Vec lifecycle event {'msg': 'downsampling leaves estimated 18578883.22833941 word corpus (75.7%% of prior 24537325)', 'datetime': '2022-01-27T14:52:30.098775', 'gensim': '4.1.2', 'python': '3.8.8 (default, Apr 13 2021, 15:08:03) [MSC v.1916 64 bit (AMD64)]', 'platform': 'Windows-10-10.0.22538-SP0', 'event': 'prepare_vocab'}\n",
      "2022-01-27 14:52:30,147 : INFO : constructing a huffman tree from 57730 words\n",
      "2022-01-27 14:52:32,398 : INFO : built huffman tree with maximum node depth 22\n",
      "2022-01-27 14:52:32,893 : INFO : estimated required memory for 57730 words and 50 dimensions: 145179000 bytes\n",
      "2022-01-27 14:52:32,894 : INFO : resetting layer weights\n",
      "2022-01-27 14:52:32,968 : INFO : Doc2Vec lifecycle event {'msg': 'training model with 3 workers on 57730 vocabulary and 50 features, using sg=1 hs=1 sample=0.001 negative=5 window=5 shrink_windows=True', 'datetime': '2022-01-27T14:52:32.968147', 'gensim': '4.1.2', 'python': '3.8.8 (default, Apr 13 2021, 15:08:03) [MSC v.1916 64 bit (AMD64)]', 'platform': 'Windows-10-10.0.22538-SP0', 'event': 'train'}\n",
      "2022-01-27 14:52:34,006 : INFO : EPOCH 1 - PROGRESS: at 2.75% examples, 524440 words/s, in_qsize 5, out_qsize 0\n",
      "2022-01-27 14:52:35,009 : INFO : EPOCH 1 - PROGRESS: at 5.84% examples, 545308 words/s, in_qsize 6, out_qsize 0\n",
      "2022-01-27 14:52:36,020 : INFO : EPOCH 1 - PROGRESS: at 9.13% examples, 570811 words/s, in_qsize 6, out_qsize 0\n",
      "2022-01-27 14:52:37,026 : INFO : EPOCH 1 - PROGRESS: at 12.36% examples, 580102 words/s, in_qsize 5, out_qsize 0\n",
      "2022-01-27 14:52:38,035 : INFO : EPOCH 1 - PROGRESS: at 15.68% examples, 586861 words/s, in_qsize 5, out_qsize 1\n",
      "2022-01-27 14:52:39,042 : INFO : EPOCH 1 - PROGRESS: at 18.88% examples, 590196 words/s, in_qsize 5, out_qsize 0\n",
      "2022-01-27 14:52:40,057 : INFO : EPOCH 1 - PROGRESS: at 22.11% examples, 590933 words/s, in_qsize 5, out_qsize 0\n",
      "2022-01-27 14:52:41,062 : INFO : EPOCH 1 - PROGRESS: at 25.44% examples, 593433 words/s, in_qsize 5, out_qsize 0\n",
      "2022-01-27 14:52:42,064 : INFO : EPOCH 1 - PROGRESS: at 28.70% examples, 594463 words/s, in_qsize 5, out_qsize 0\n",
      "2022-01-27 14:52:43,078 : INFO : EPOCH 1 - PROGRESS: at 31.99% examples, 596299 words/s, in_qsize 5, out_qsize 0\n",
      "2022-01-27 14:52:44,080 : INFO : EPOCH 1 - PROGRESS: at 35.28% examples, 597781 words/s, in_qsize 5, out_qsize 0\n",
      "2022-01-27 14:52:45,096 : INFO : EPOCH 1 - PROGRESS: at 38.34% examples, 595655 words/s, in_qsize 5, out_qsize 0\n",
      "2022-01-27 14:52:46,098 : INFO : EPOCH 1 - PROGRESS: at 41.42% examples, 593991 words/s, in_qsize 5, out_qsize 0\n",
      "2022-01-27 14:52:47,104 : INFO : EPOCH 1 - PROGRESS: at 44.19% examples, 589263 words/s, in_qsize 5, out_qsize 0\n",
      "2022-01-27 14:52:48,107 : INFO : EPOCH 1 - PROGRESS: at 46.77% examples, 581742 words/s, in_qsize 5, out_qsize 0\n",
      "2022-01-27 14:52:49,118 : INFO : EPOCH 1 - PROGRESS: at 49.79% examples, 580396 words/s, in_qsize 5, out_qsize 0\n",
      "2022-01-27 14:52:50,127 : INFO : EPOCH 1 - PROGRESS: at 52.58% examples, 578019 words/s, in_qsize 5, out_qsize 0\n",
      "2022-01-27 14:52:51,133 : INFO : EPOCH 1 - PROGRESS: at 55.66% examples, 577236 words/s, in_qsize 6, out_qsize 0\n",
      "2022-01-27 14:52:52,134 : INFO : EPOCH 1 - PROGRESS: at 58.53% examples, 575062 words/s, in_qsize 5, out_qsize 0\n",
      "2022-01-27 14:52:53,146 : INFO : EPOCH 1 - PROGRESS: at 61.45% examples, 573624 words/s, in_qsize 5, out_qsize 0\n",
      "2022-01-27 14:52:54,147 : INFO : EPOCH 1 - PROGRESS: at 64.77% examples, 575010 words/s, in_qsize 5, out_qsize 0\n",
      "2022-01-27 14:52:55,149 : INFO : EPOCH 1 - PROGRESS: at 68.21% examples, 578064 words/s, in_qsize 5, out_qsize 0\n",
      "2022-01-27 14:52:56,155 : INFO : EPOCH 1 - PROGRESS: at 71.72% examples, 581086 words/s, in_qsize 6, out_qsize 0\n",
      "2022-01-27 14:52:57,164 : INFO : EPOCH 1 - PROGRESS: at 75.23% examples, 583643 words/s, in_qsize 5, out_qsize 0\n",
      "2022-01-27 14:52:58,165 : INFO : EPOCH 1 - PROGRESS: at 78.70% examples, 586206 words/s, in_qsize 5, out_qsize 0\n",
      "2022-01-27 14:52:59,167 : INFO : EPOCH 1 - PROGRESS: at 82.02% examples, 587447 words/s, in_qsize 6, out_qsize 0\n",
      "2022-01-27 14:53:00,176 : INFO : EPOCH 1 - PROGRESS: at 85.40% examples, 589415 words/s, in_qsize 5, out_qsize 0\n",
      "2022-01-27 14:53:01,185 : INFO : EPOCH 1 - PROGRESS: at 88.81% examples, 591018 words/s, in_qsize 5, out_qsize 0\n",
      "2022-01-27 14:53:02,208 : INFO : EPOCH 1 - PROGRESS: at 92.25% examples, 592265 words/s, in_qsize 5, out_qsize 0\n",
      "2022-01-27 14:53:03,213 : INFO : EPOCH 1 - PROGRESS: at 95.68% examples, 593860 words/s, in_qsize 5, out_qsize 0\n",
      "2022-01-27 14:53:04,214 : INFO : EPOCH 1 - PROGRESS: at 99.10% examples, 595388 words/s, in_qsize 5, out_qsize 0\n",
      "2022-01-27 14:53:04,457 : INFO : worker thread finished; awaiting finish of 2 more threads\n"
     ]
    },
    {
     "name": "stderr",
     "output_type": "stream",
     "text": [
      "2022-01-27 14:53:04,472 : INFO : worker thread finished; awaiting finish of 1 more threads\n",
      "2022-01-27 14:53:04,473 : INFO : worker thread finished; awaiting finish of 0 more threads\n",
      "2022-01-27 14:53:04,473 : INFO : EPOCH - 1 : training on 24693510 raw words (18753183 effective words) took 31.5s, 595837 effective words/s\n",
      "2022-01-27 14:53:05,502 : INFO : EPOCH 2 - PROGRESS: at 2.78% examples, 508444 words/s, in_qsize 5, out_qsize 0\n",
      "2022-01-27 14:53:06,524 : INFO : EPOCH 2 - PROGRESS: at 5.93% examples, 539799 words/s, in_qsize 5, out_qsize 0\n",
      "2022-01-27 14:53:07,528 : INFO : EPOCH 2 - PROGRESS: at 9.03% examples, 553222 words/s, in_qsize 5, out_qsize 0\n",
      "2022-01-27 14:53:08,534 : INFO : EPOCH 2 - PROGRESS: at 12.12% examples, 559453 words/s, in_qsize 5, out_qsize 0\n",
      "2022-01-27 14:53:09,541 : INFO : EPOCH 2 - PROGRESS: at 15.17% examples, 562334 words/s, in_qsize 5, out_qsize 0\n",
      "2022-01-27 14:53:10,546 : INFO : EPOCH 2 - PROGRESS: at 18.62% examples, 575205 words/s, in_qsize 6, out_qsize 0\n",
      "2022-01-27 14:53:11,556 : INFO : EPOCH 2 - PROGRESS: at 22.08% examples, 583958 words/s, in_qsize 6, out_qsize 0\n",
      "2022-01-27 14:53:12,577 : INFO : EPOCH 2 - PROGRESS: at 25.63% examples, 590545 words/s, in_qsize 5, out_qsize 0\n",
      "2022-01-27 14:53:13,594 : INFO : EPOCH 2 - PROGRESS: at 28.99% examples, 595374 words/s, in_qsize 6, out_qsize 0\n",
      "2022-01-27 14:53:14,605 : INFO : EPOCH 2 - PROGRESS: at 32.45% examples, 599984 words/s, in_qsize 6, out_qsize 0\n",
      "2022-01-27 14:53:15,616 : INFO : EPOCH 2 - PROGRESS: at 35.89% examples, 602700 words/s, in_qsize 5, out_qsize 0\n",
      "2022-01-27 14:53:16,637 : INFO : EPOCH 2 - PROGRESS: at 39.30% examples, 605443 words/s, in_qsize 5, out_qsize 0\n",
      "2022-01-27 14:53:17,652 : INFO : EPOCH 2 - PROGRESS: at 42.72% examples, 607085 words/s, in_qsize 6, out_qsize 0\n",
      "2022-01-27 14:53:18,652 : INFO : EPOCH 2 - PROGRESS: at 45.99% examples, 607978 words/s, in_qsize 5, out_qsize 0\n",
      "2022-01-27 14:53:19,660 : INFO : EPOCH 2 - PROGRESS: at 49.46% examples, 609786 words/s, in_qsize 6, out_qsize 0\n",
      "2022-01-27 14:53:20,668 : INFO : EPOCH 2 - PROGRESS: at 52.91% examples, 612001 words/s, in_qsize 5, out_qsize 0\n",
      "2022-01-27 14:53:21,677 : INFO : EPOCH 2 - PROGRESS: at 56.36% examples, 614178 words/s, in_qsize 6, out_qsize 0\n",
      "2022-01-27 14:53:22,684 : INFO : EPOCH 2 - PROGRESS: at 59.78% examples, 615983 words/s, in_qsize 5, out_qsize 0\n",
      "2022-01-27 14:53:23,694 : INFO : EPOCH 2 - PROGRESS: at 63.15% examples, 616587 words/s, in_qsize 5, out_qsize 0\n",
      "2022-01-27 14:53:24,698 : INFO : EPOCH 2 - PROGRESS: at 66.40% examples, 615922 words/s, in_qsize 5, out_qsize 0\n",
      "2022-01-27 14:53:25,702 : INFO : EPOCH 2 - PROGRESS: at 69.70% examples, 616653 words/s, in_qsize 6, out_qsize 0\n",
      "2022-01-27 14:53:26,710 : INFO : EPOCH 2 - PROGRESS: at 73.10% examples, 617669 words/s, in_qsize 6, out_qsize 0\n",
      "2022-01-27 14:53:27,713 : INFO : EPOCH 2 - PROGRESS: at 76.59% examples, 618917 words/s, in_qsize 5, out_qsize 0\n",
      "2022-01-27 14:53:28,718 : INFO : EPOCH 2 - PROGRESS: at 80.00% examples, 619785 words/s, in_qsize 5, out_qsize 0\n",
      "2022-01-27 14:53:29,725 : INFO : EPOCH 2 - PROGRESS: at 83.48% examples, 620836 words/s, in_qsize 5, out_qsize 0\n",
      "2022-01-27 14:53:30,729 : INFO : EPOCH 2 - PROGRESS: at 86.97% examples, 621897 words/s, in_qsize 5, out_qsize 0\n",
      "2022-01-27 14:53:31,731 : INFO : EPOCH 2 - PROGRESS: at 90.35% examples, 622051 words/s, in_qsize 5, out_qsize 0\n",
      "2022-01-27 14:53:32,748 : INFO : EPOCH 2 - PROGRESS: at 93.60% examples, 620821 words/s, in_qsize 5, out_qsize 0\n",
      "2022-01-27 14:53:33,750 : INFO : EPOCH 2 - PROGRESS: at 96.84% examples, 620731 words/s, in_qsize 6, out_qsize 0\n",
      "2022-01-27 14:53:34,703 : INFO : worker thread finished; awaiting finish of 2 more threads\n",
      "2022-01-27 14:53:34,716 : INFO : worker thread finished; awaiting finish of 1 more threads\n",
      "2022-01-27 14:53:34,718 : INFO : worker thread finished; awaiting finish of 0 more threads\n",
      "2022-01-27 14:53:34,719 : INFO : EPOCH - 2 : training on 24693510 raw words (18757626 effective words) took 30.2s, 620526 effective words/s\n",
      "2022-01-27 14:53:35,740 : INFO : EPOCH 3 - PROGRESS: at 2.61% examples, 480436 words/s, in_qsize 5, out_qsize 0\n",
      "2022-01-27 14:53:36,764 : INFO : EPOCH 3 - PROGRESS: at 5.67% examples, 523942 words/s, in_qsize 6, out_qsize 0\n",
      "2022-01-27 14:53:37,775 : INFO : EPOCH 3 - PROGRESS: at 8.66% examples, 533157 words/s, in_qsize 5, out_qsize 0\n",
      "2022-01-27 14:53:38,781 : INFO : EPOCH 3 - PROGRESS: at 11.73% examples, 540796 words/s, in_qsize 5, out_qsize 0\n",
      "2022-01-27 14:53:39,796 : INFO : EPOCH 3 - PROGRESS: at 14.87% examples, 546369 words/s, in_qsize 5, out_qsize 0\n",
      "2022-01-27 14:53:40,799 : INFO : EPOCH 3 - PROGRESS: at 17.99% examples, 551757 words/s, in_qsize 6, out_qsize 0\n",
      "2022-01-27 14:53:41,806 : INFO : EPOCH 3 - PROGRESS: at 21.49% examples, 564983 words/s, in_qsize 5, out_qsize 0\n",
      "2022-01-27 14:53:42,811 : INFO : EPOCH 3 - PROGRESS: at 24.90% examples, 574236 words/s, in_qsize 6, out_qsize 0\n",
      "2022-01-27 14:53:43,842 : INFO : EPOCH 3 - PROGRESS: at 28.27% examples, 578803 words/s, in_qsize 5, out_qsize 0\n",
      "2022-01-27 14:53:44,857 : INFO : EPOCH 3 - PROGRESS: at 31.73% examples, 585073 words/s, in_qsize 6, out_qsize 0\n",
      "2022-01-27 14:53:45,861 : INFO : EPOCH 3 - PROGRESS: at 35.06% examples, 589145 words/s, in_qsize 6, out_qsize 0\n",
      "2022-01-27 14:53:46,866 : INFO : EPOCH 3 - PROGRESS: at 38.32% examples, 591956 words/s, in_qsize 5, out_qsize 0\n",
      "2022-01-27 14:53:47,869 : INFO : EPOCH 3 - PROGRESS: at 41.68% examples, 595570 words/s, in_qsize 5, out_qsize 0\n",
      "2022-01-27 14:53:48,873 : INFO : EPOCH 3 - PROGRESS: at 45.09% examples, 598784 words/s, in_qsize 6, out_qsize 0\n",
      "2022-01-27 14:53:49,882 : INFO : EPOCH 3 - PROGRESS: at 48.61% examples, 601816 words/s, in_qsize 5, out_qsize 0\n",
      "2022-01-27 14:53:50,886 : INFO : EPOCH 3 - PROGRESS: at 52.13% examples, 604514 words/s, in_qsize 5, out_qsize 0\n",
      "2022-01-27 14:53:51,890 : INFO : EPOCH 3 - PROGRESS: at 55.57% examples, 606593 words/s, in_qsize 5, out_qsize 0\n",
      "2022-01-27 14:53:52,891 : INFO : EPOCH 3 - PROGRESS: at 59.01% examples, 608438 words/s, in_qsize 6, out_qsize 0\n",
      "2022-01-27 14:53:53,902 : INFO : EPOCH 3 - PROGRESS: at 62.30% examples, 608326 words/s, in_qsize 5, out_qsize 0\n",
      "2022-01-27 14:53:54,911 : INFO : EPOCH 3 - PROGRESS: at 65.58% examples, 608365 words/s, in_qsize 6, out_qsize 0\n",
      "2022-01-27 14:53:55,921 : INFO : EPOCH 3 - PROGRESS: at 68.92% examples, 609325 words/s, in_qsize 6, out_qsize 0\n",
      "2022-01-27 14:53:56,948 : INFO : EPOCH 3 - PROGRESS: at 72.42% examples, 609992 words/s, in_qsize 5, out_qsize 0\n",
      "2022-01-27 14:53:57,964 : INFO : EPOCH 3 - PROGRESS: at 75.81% examples, 611267 words/s, in_qsize 5, out_qsize 0\n",
      "2022-01-27 14:53:58,978 : INFO : EPOCH 3 - PROGRESS: at 79.22% examples, 612765 words/s, in_qsize 6, out_qsize 0\n",
      "2022-01-27 14:53:59,981 : INFO : EPOCH 3 - PROGRESS: at 82.66% examples, 614411 words/s, in_qsize 5, out_qsize 0\n",
      "2022-01-27 14:54:00,985 : INFO : EPOCH 3 - PROGRESS: at 86.02% examples, 614834 words/s, in_qsize 6, out_qsize 0\n",
      "2022-01-27 14:54:01,989 : INFO : EPOCH 3 - PROGRESS: at 89.49% examples, 616000 words/s, in_qsize 6, out_qsize 1\n",
      "2022-01-27 14:54:02,989 : INFO : EPOCH 3 - PROGRESS: at 92.97% examples, 616934 words/s, in_qsize 6, out_qsize 0\n",
      "2022-01-27 14:54:03,994 : INFO : EPOCH 3 - PROGRESS: at 96.46% examples, 617771 words/s, in_qsize 5, out_qsize 0\n",
      "2022-01-27 14:54:04,998 : INFO : EPOCH 3 - PROGRESS: at 99.78% examples, 618242 words/s, in_qsize 6, out_qsize 0\n",
      "2022-01-27 14:54:05,057 : INFO : worker thread finished; awaiting finish of 2 more threads\n",
      "2022-01-27 14:54:05,063 : INFO : worker thread finished; awaiting finish of 1 more threads\n",
      "2022-01-27 14:54:05,070 : INFO : worker thread finished; awaiting finish of 0 more threads\n",
      "2022-01-27 14:54:05,071 : INFO : EPOCH - 3 : training on 24693510 raw words (18755052 effective words) took 30.3s, 618095 effective words/s\n",
      "2022-01-27 14:54:06,106 : INFO : EPOCH 4 - PROGRESS: at 2.66% examples, 487380 words/s, in_qsize 5, out_qsize 0\n",
      "2022-01-27 14:54:07,107 : INFO : EPOCH 4 - PROGRESS: at 5.56% examples, 516403 words/s, in_qsize 6, out_qsize 0\n",
      "2022-01-27 14:54:08,109 : INFO : EPOCH 4 - PROGRESS: at 8.57% examples, 531181 words/s, in_qsize 5, out_qsize 0\n",
      "2022-01-27 14:54:09,114 : INFO : EPOCH 4 - PROGRESS: at 11.62% examples, 539114 words/s, in_qsize 5, out_qsize 0\n"
     ]
    },
    {
     "name": "stderr",
     "output_type": "stream",
     "text": [
      "2022-01-27 14:54:10,116 : INFO : EPOCH 4 - PROGRESS: at 14.82% examples, 546073 words/s, in_qsize 5, out_qsize 0\n",
      "2022-01-27 14:54:11,127 : INFO : EPOCH 4 - PROGRESS: at 17.80% examples, 551255 words/s, in_qsize 5, out_qsize 0\n",
      "2022-01-27 14:54:12,140 : INFO : EPOCH 4 - PROGRESS: at 21.25% examples, 565350 words/s, in_qsize 5, out_qsize 0\n",
      "2022-01-27 14:54:13,152 : INFO : EPOCH 4 - PROGRESS: at 24.65% examples, 574883 words/s, in_qsize 5, out_qsize 0\n",
      "2022-01-27 14:54:14,166 : INFO : EPOCH 4 - PROGRESS: at 28.21% examples, 583059 words/s, in_qsize 6, out_qsize 0\n",
      "2022-01-27 14:54:15,172 : INFO : EPOCH 4 - PROGRESS: at 31.63% examples, 589089 words/s, in_qsize 5, out_qsize 0\n",
      "2022-01-27 14:54:16,176 : INFO : EPOCH 4 - PROGRESS: at 34.93% examples, 594182 words/s, in_qsize 5, out_qsize 0\n",
      "2022-01-27 14:54:17,178 : INFO : EPOCH 4 - PROGRESS: at 38.40% examples, 598718 words/s, in_qsize 5, out_qsize 0\n",
      "2022-01-27 14:54:18,180 : INFO : EPOCH 4 - PROGRESS: at 41.73% examples, 600860 words/s, in_qsize 6, out_qsize 0\n",
      "2022-01-27 14:54:19,183 : INFO : EPOCH 4 - PROGRESS: at 45.07% examples, 603515 words/s, in_qsize 5, out_qsize 0\n",
      "2022-01-27 14:54:20,199 : INFO : EPOCH 4 - PROGRESS: at 48.51% examples, 605432 words/s, in_qsize 5, out_qsize 0\n",
      "2022-01-27 14:54:21,201 : INFO : EPOCH 4 - PROGRESS: at 51.99% examples, 607608 words/s, in_qsize 5, out_qsize 0\n",
      "2022-01-27 14:54:22,219 : INFO : EPOCH 4 - PROGRESS: at 55.32% examples, 607196 words/s, in_qsize 5, out_qsize 0\n",
      "2022-01-27 14:54:23,229 : INFO : EPOCH 4 - PROGRESS: at 58.80% examples, 609278 words/s, in_qsize 5, out_qsize 0\n",
      "2022-01-27 14:54:24,233 : INFO : EPOCH 4 - PROGRESS: at 62.15% examples, 610054 words/s, in_qsize 5, out_qsize 0\n",
      "2022-01-27 14:54:25,239 : INFO : EPOCH 4 - PROGRESS: at 65.43% examples, 610279 words/s, in_qsize 5, out_qsize 0\n",
      "2022-01-27 14:54:26,243 : INFO : EPOCH 4 - PROGRESS: at 68.74% examples, 610993 words/s, in_qsize 5, out_qsize 0\n",
      "2022-01-27 14:54:27,245 : INFO : EPOCH 4 - PROGRESS: at 72.01% examples, 611404 words/s, in_qsize 6, out_qsize 0\n",
      "2022-01-27 14:54:28,250 : INFO : EPOCH 4 - PROGRESS: at 75.39% examples, 612267 words/s, in_qsize 5, out_qsize 0\n",
      "2022-01-27 14:54:29,257 : INFO : EPOCH 4 - PROGRESS: at 78.79% examples, 612768 words/s, in_qsize 6, out_qsize 0\n",
      "2022-01-27 14:54:30,278 : INFO : EPOCH 4 - PROGRESS: at 82.25% examples, 613683 words/s, in_qsize 5, out_qsize 0\n",
      "2022-01-27 14:54:31,284 : INFO : EPOCH 4 - PROGRESS: at 85.76% examples, 615120 words/s, in_qsize 5, out_qsize 0\n",
      "2022-01-27 14:54:32,286 : INFO : EPOCH 4 - PROGRESS: at 89.22% examples, 616311 words/s, in_qsize 5, out_qsize 0\n",
      "2022-01-27 14:54:33,294 : INFO : EPOCH 4 - PROGRESS: at 92.78% examples, 617350 words/s, in_qsize 5, out_qsize 0\n",
      "2022-01-27 14:54:34,303 : INFO : EPOCH 4 - PROGRESS: at 96.29% examples, 618327 words/s, in_qsize 6, out_qsize 0\n",
      "2022-01-27 14:54:35,306 : INFO : EPOCH 4 - PROGRESS: at 99.60% examples, 618351 words/s, in_qsize 5, out_qsize 0\n",
      "2022-01-27 14:54:35,407 : INFO : worker thread finished; awaiting finish of 2 more threads\n",
      "2022-01-27 14:54:35,413 : INFO : worker thread finished; awaiting finish of 1 more threads\n",
      "2022-01-27 14:54:35,420 : INFO : worker thread finished; awaiting finish of 0 more threads\n",
      "2022-01-27 14:54:35,421 : INFO : EPOCH - 4 : training on 24693510 raw words (18754247 effective words) took 30.3s, 618393 effective words/s\n",
      "2022-01-27 14:54:36,449 : INFO : EPOCH 5 - PROGRESS: at 2.77% examples, 494432 words/s, in_qsize 5, out_qsize 0\n",
      "2022-01-27 14:54:37,455 : INFO : EPOCH 5 - PROGRESS: at 5.76% examples, 532726 words/s, in_qsize 6, out_qsize 0\n",
      "2022-01-27 14:54:38,473 : INFO : EPOCH 5 - PROGRESS: at 8.89% examples, 545663 words/s, in_qsize 5, out_qsize 0\n",
      "2022-01-27 14:54:39,493 : INFO : EPOCH 5 - PROGRESS: at 12.07% examples, 553777 words/s, in_qsize 5, out_qsize 0\n",
      "2022-01-27 14:54:40,495 : INFO : EPOCH 5 - PROGRESS: at 15.14% examples, 558994 words/s, in_qsize 5, out_qsize 0\n",
      "2022-01-27 14:54:41,525 : INFO : EPOCH 5 - PROGRESS: at 18.33% examples, 562271 words/s, in_qsize 6, out_qsize 0\n",
      "2022-01-27 14:54:42,525 : INFO : EPOCH 5 - PROGRESS: at 21.42% examples, 565949 words/s, in_qsize 6, out_qsize 0\n",
      "2022-01-27 14:54:43,539 : INFO : EPOCH 5 - PROGRESS: at 24.98% examples, 576293 words/s, in_qsize 5, out_qsize 0\n",
      "2022-01-27 14:54:44,545 : INFO : EPOCH 5 - PROGRESS: at 28.45% examples, 584053 words/s, in_qsize 6, out_qsize 0\n",
      "2022-01-27 14:54:45,545 : INFO : EPOCH 5 - PROGRESS: at 31.83% examples, 588440 words/s, in_qsize 5, out_qsize 0\n",
      "2022-01-27 14:54:46,548 : INFO : EPOCH 5 - PROGRESS: at 35.05% examples, 590358 words/s, in_qsize 5, out_qsize 0\n",
      "2022-01-27 14:54:47,548 : INFO : EPOCH 5 - PROGRESS: at 38.00% examples, 587183 words/s, in_qsize 5, out_qsize 0\n",
      "2022-01-27 14:54:48,562 : INFO : EPOCH 5 - PROGRESS: at 41.30% examples, 588074 words/s, in_qsize 5, out_qsize 0\n",
      "2022-01-27 14:54:49,567 : INFO : EPOCH 5 - PROGRESS: at 44.60% examples, 589618 words/s, in_qsize 6, out_qsize 0\n",
      "2022-01-27 14:54:50,580 : INFO : EPOCH 5 - PROGRESS: at 48.05% examples, 593142 words/s, in_qsize 6, out_qsize 0\n",
      "2022-01-27 14:54:51,596 : INFO : EPOCH 5 - PROGRESS: at 51.21% examples, 593318 words/s, in_qsize 5, out_qsize 0\n",
      "2022-01-27 14:54:52,604 : INFO : EPOCH 5 - PROGRESS: at 54.66% examples, 595917 words/s, in_qsize 6, out_qsize 0\n",
      "2022-01-27 14:54:53,610 : INFO : EPOCH 5 - PROGRESS: at 57.90% examples, 596969 words/s, in_qsize 5, out_qsize 0\n",
      "2022-01-27 14:54:54,615 : INFO : EPOCH 5 - PROGRESS: at 61.24% examples, 597619 words/s, in_qsize 5, out_qsize 0\n",
      "2022-01-27 14:54:55,624 : INFO : EPOCH 5 - PROGRESS: at 64.48% examples, 597783 words/s, in_qsize 5, out_qsize 0\n",
      "2022-01-27 14:54:56,626 : INFO : EPOCH 5 - PROGRESS: at 67.78% examples, 598178 words/s, in_qsize 6, out_qsize 0\n",
      "2022-01-27 14:54:57,636 : INFO : EPOCH 5 - PROGRESS: at 71.12% examples, 598984 words/s, in_qsize 5, out_qsize 0\n",
      "2022-01-27 14:54:58,651 : INFO : EPOCH 5 - PROGRESS: at 74.57% examples, 600560 words/s, in_qsize 6, out_qsize 1\n",
      "2022-01-27 14:54:59,657 : INFO : EPOCH 5 - PROGRESS: at 78.01% examples, 602754 words/s, in_qsize 6, out_qsize 0\n",
      "2022-01-27 14:55:00,667 : INFO : EPOCH 5 - PROGRESS: at 81.49% examples, 603875 words/s, in_qsize 6, out_qsize 0\n",
      "2022-01-27 14:55:01,677 : INFO : EPOCH 5 - PROGRESS: at 84.92% examples, 604800 words/s, in_qsize 6, out_qsize 0\n",
      "2022-01-27 14:55:02,698 : INFO : EPOCH 5 - PROGRESS: at 88.32% examples, 605884 words/s, in_qsize 5, out_qsize 0\n",
      "2022-01-27 14:55:03,706 : INFO : EPOCH 5 - PROGRESS: at 91.61% examples, 606926 words/s, in_qsize 5, out_qsize 0\n",
      "2022-01-27 14:55:04,731 : INFO : EPOCH 5 - PROGRESS: at 94.66% examples, 605849 words/s, in_qsize 5, out_qsize 0\n",
      "2022-01-27 14:55:05,762 : INFO : EPOCH 5 - PROGRESS: at 98.16% examples, 607238 words/s, in_qsize 5, out_qsize 0\n",
      "2022-01-27 14:55:06,278 : INFO : worker thread finished; awaiting finish of 2 more threads\n",
      "2022-01-27 14:55:06,300 : INFO : worker thread finished; awaiting finish of 1 more threads\n",
      "2022-01-27 14:55:06,302 : INFO : worker thread finished; awaiting finish of 0 more threads\n",
      "2022-01-27 14:55:06,302 : INFO : EPOCH - 5 : training on 24693510 raw words (18755716 effective words) took 30.9s, 607693 effective words/s\n",
      "2022-01-27 14:55:07,321 : INFO : EPOCH 6 - PROGRESS: at 2.65% examples, 491421 words/s, in_qsize 5, out_qsize 0\n",
      "2022-01-27 14:55:08,322 : INFO : EPOCH 6 - PROGRESS: at 5.53% examples, 524800 words/s, in_qsize 6, out_qsize 0\n",
      "2022-01-27 14:55:09,332 : INFO : EPOCH 6 - PROGRESS: at 8.45% examples, 539115 words/s, in_qsize 5, out_qsize 0\n",
      "2022-01-27 14:55:10,334 : INFO : EPOCH 6 - PROGRESS: at 11.48% examples, 549478 words/s, in_qsize 6, out_qsize 0\n",
      "2022-01-27 14:55:11,347 : INFO : EPOCH 6 - PROGRESS: at 14.40% examples, 549011 words/s, in_qsize 5, out_qsize 0\n",
      "2022-01-27 14:55:12,348 : INFO : EPOCH 6 - PROGRESS: at 17.31% examples, 550618 words/s, in_qsize 5, out_qsize 0\n",
      "2022-01-27 14:55:13,349 : INFO : EPOCH 6 - PROGRESS: at 20.63% examples, 560464 words/s, in_qsize 6, out_qsize 0\n",
      "2022-01-27 14:55:14,350 : INFO : EPOCH 6 - PROGRESS: at 24.06% examples, 568586 words/s, in_qsize 6, out_qsize 0\n",
      "2022-01-27 14:55:15,365 : INFO : EPOCH 6 - PROGRESS: at 27.58% examples, 575755 words/s, in_qsize 5, out_qsize 0\n",
      "2022-01-27 14:55:16,375 : INFO : EPOCH 6 - PROGRESS: at 31.03% examples, 581773 words/s, in_qsize 5, out_qsize 0\n"
     ]
    },
    {
     "name": "stderr",
     "output_type": "stream",
     "text": [
      "2022-01-27 14:55:17,392 : INFO : EPOCH 6 - PROGRESS: at 34.63% examples, 588287 words/s, in_qsize 6, out_qsize 0\n",
      "2022-01-27 14:55:18,413 : INFO : EPOCH 6 - PROGRESS: at 38.11% examples, 592445 words/s, in_qsize 6, out_qsize 1\n",
      "2022-01-27 14:55:19,421 : INFO : EPOCH 6 - PROGRESS: at 41.64% examples, 595798 words/s, in_qsize 5, out_qsize 0\n",
      "2022-01-27 14:55:20,433 : INFO : EPOCH 6 - PROGRESS: at 45.10% examples, 599659 words/s, in_qsize 5, out_qsize 0\n",
      "2022-01-27 14:55:21,439 : INFO : EPOCH 6 - PROGRESS: at 48.53% examples, 602587 words/s, in_qsize 5, out_qsize 0\n",
      "2022-01-27 14:55:22,453 : INFO : EPOCH 6 - PROGRESS: at 52.06% examples, 605526 words/s, in_qsize 5, out_qsize 0\n",
      "2022-01-27 14:55:23,464 : INFO : EPOCH 6 - PROGRESS: at 55.42% examples, 606493 words/s, in_qsize 5, out_qsize 0\n",
      "2022-01-27 14:55:24,473 : INFO : EPOCH 6 - PROGRESS: at 58.88% examples, 608173 words/s, in_qsize 5, out_qsize 0\n",
      "2022-01-27 14:55:25,479 : INFO : EPOCH 6 - PROGRESS: at 62.40% examples, 610525 words/s, in_qsize 5, out_qsize 0\n",
      "2022-01-27 14:55:26,491 : INFO : EPOCH 6 - PROGRESS: at 65.92% examples, 612463 words/s, in_qsize 6, out_qsize 0\n",
      "2022-01-27 14:55:27,510 : INFO : EPOCH 6 - PROGRESS: at 69.38% examples, 613701 words/s, in_qsize 6, out_qsize 0\n",
      "2022-01-27 14:55:28,527 : INFO : EPOCH 6 - PROGRESS: at 72.93% examples, 615205 words/s, in_qsize 6, out_qsize 0\n",
      "2022-01-27 14:55:29,532 : INFO : EPOCH 6 - PROGRESS: at 76.27% examples, 615582 words/s, in_qsize 5, out_qsize 0\n",
      "2022-01-27 14:55:30,537 : INFO : EPOCH 6 - PROGRESS: at 79.63% examples, 615837 words/s, in_qsize 6, out_qsize 0\n",
      "2022-01-27 14:55:31,550 : INFO : EPOCH 6 - PROGRESS: at 83.03% examples, 617099 words/s, in_qsize 6, out_qsize 0\n",
      "2022-01-27 14:55:32,552 : INFO : EPOCH 6 - PROGRESS: at 86.45% examples, 617431 words/s, in_qsize 5, out_qsize 0\n",
      "2022-01-27 14:55:33,581 : INFO : EPOCH 6 - PROGRESS: at 89.87% examples, 617174 words/s, in_qsize 6, out_qsize 0\n",
      "2022-01-27 14:55:34,598 : INFO : EPOCH 6 - PROGRESS: at 93.39% examples, 618468 words/s, in_qsize 6, out_qsize 0\n",
      "2022-01-27 14:55:35,618 : INFO : EPOCH 6 - PROGRESS: at 96.81% examples, 619051 words/s, in_qsize 5, out_qsize 0\n",
      "2022-01-27 14:55:36,545 : INFO : worker thread finished; awaiting finish of 2 more threads\n",
      "2022-01-27 14:55:36,560 : INFO : worker thread finished; awaiting finish of 1 more threads\n",
      "2022-01-27 14:55:36,573 : INFO : worker thread finished; awaiting finish of 0 more threads\n",
      "2022-01-27 14:55:36,573 : INFO : EPOCH - 6 : training on 24693510 raw words (18753070 effective words) took 30.3s, 619784 effective words/s\n",
      "2022-01-27 14:55:37,595 : INFO : EPOCH 7 - PROGRESS: at 2.56% examples, 488483 words/s, in_qsize 6, out_qsize 0\n",
      "2022-01-27 14:55:38,598 : INFO : EPOCH 7 - PROGRESS: at 5.53% examples, 528025 words/s, in_qsize 6, out_qsize 0\n",
      "2022-01-27 14:55:39,604 : INFO : EPOCH 7 - PROGRESS: at 8.51% examples, 535061 words/s, in_qsize 6, out_qsize 0\n",
      "2022-01-27 14:55:40,605 : INFO : EPOCH 7 - PROGRESS: at 11.51% examples, 542829 words/s, in_qsize 6, out_qsize 0\n",
      "2022-01-27 14:55:41,611 : INFO : EPOCH 7 - PROGRESS: at 14.40% examples, 541592 words/s, in_qsize 5, out_qsize 0\n",
      "2022-01-27 14:55:42,615 : INFO : EPOCH 7 - PROGRESS: at 17.46% examples, 546451 words/s, in_qsize 6, out_qsize 0\n",
      "2022-01-27 14:55:43,629 : INFO : EPOCH 7 - PROGRESS: at 20.45% examples, 549145 words/s, in_qsize 5, out_qsize 0\n",
      "2022-01-27 14:55:44,631 : INFO : EPOCH 7 - PROGRESS: at 23.56% examples, 552607 words/s, in_qsize 6, out_qsize 0\n",
      "2022-01-27 14:55:45,650 : INFO : EPOCH 7 - PROGRESS: at 26.84% examples, 559025 words/s, in_qsize 6, out_qsize 0\n",
      "2022-01-27 14:55:46,662 : INFO : EPOCH 7 - PROGRESS: at 30.38% examples, 568016 words/s, in_qsize 5, out_qsize 0\n",
      "2022-01-27 14:55:47,663 : INFO : EPOCH 7 - PROGRESS: at 33.80% examples, 576008 words/s, in_qsize 5, out_qsize 0\n",
      "2022-01-27 14:55:48,667 : INFO : EPOCH 7 - PROGRESS: at 37.29% examples, 582383 words/s, in_qsize 6, out_qsize 0\n",
      "2022-01-27 14:55:49,670 : INFO : EPOCH 7 - PROGRESS: at 40.76% examples, 587842 words/s, in_qsize 5, out_qsize 0\n",
      "2022-01-27 14:55:50,684 : INFO : EPOCH 7 - PROGRESS: at 44.26% examples, 591649 words/s, in_qsize 5, out_qsize 0\n",
      "2022-01-27 14:55:51,696 : INFO : EPOCH 7 - PROGRESS: at 47.77% examples, 595466 words/s, in_qsize 5, out_qsize 0\n",
      "2022-01-27 14:55:52,700 : INFO : EPOCH 7 - PROGRESS: at 51.26% examples, 598689 words/s, in_qsize 5, out_qsize 0\n",
      "2022-01-27 14:55:53,702 : INFO : EPOCH 7 - PROGRESS: at 54.64% examples, 601503 words/s, in_qsize 5, out_qsize 0\n",
      "2022-01-27 14:55:54,725 : INFO : EPOCH 7 - PROGRESS: at 57.96% examples, 603378 words/s, in_qsize 5, out_qsize 0\n",
      "2022-01-27 14:55:55,736 : INFO : EPOCH 7 - PROGRESS: at 61.43% examples, 604320 words/s, in_qsize 5, out_qsize 0\n",
      "2022-01-27 14:55:56,755 : INFO : EPOCH 7 - PROGRESS: at 64.76% examples, 605409 words/s, in_qsize 5, out_qsize 0\n",
      "2022-01-27 14:55:57,761 : INFO : EPOCH 7 - PROGRESS: at 68.21% examples, 606616 words/s, in_qsize 5, out_qsize 0\n",
      "2022-01-27 14:55:58,773 : INFO : EPOCH 7 - PROGRESS: at 71.71% examples, 607890 words/s, in_qsize 5, out_qsize 0\n",
      "2022-01-27 14:55:59,781 : INFO : EPOCH 7 - PROGRESS: at 75.05% examples, 608900 words/s, in_qsize 5, out_qsize 0\n",
      "2022-01-27 14:56:00,795 : INFO : EPOCH 7 - PROGRESS: at 78.48% examples, 609715 words/s, in_qsize 5, out_qsize 0\n",
      "2022-01-27 14:56:01,816 : INFO : EPOCH 7 - PROGRESS: at 82.07% examples, 610787 words/s, in_qsize 5, out_qsize 0\n",
      "2022-01-27 14:56:02,819 : INFO : EPOCH 7 - PROGRESS: at 85.36% examples, 611035 words/s, in_qsize 5, out_qsize 0\n",
      "2022-01-27 14:56:03,830 : INFO : EPOCH 7 - PROGRESS: at 88.64% examples, 611085 words/s, in_qsize 5, out_qsize 0\n",
      "2022-01-27 14:56:04,836 : INFO : EPOCH 7 - PROGRESS: at 92.03% examples, 611572 words/s, in_qsize 5, out_qsize 0\n",
      "2022-01-27 14:56:05,839 : INFO : EPOCH 7 - PROGRESS: at 95.40% examples, 612288 words/s, in_qsize 5, out_qsize 0\n",
      "2022-01-27 14:56:06,848 : INFO : EPOCH 7 - PROGRESS: at 98.81% examples, 612869 words/s, in_qsize 5, out_qsize 0\n",
      "2022-01-27 14:56:07,153 : INFO : worker thread finished; awaiting finish of 2 more threads\n",
      "2022-01-27 14:56:07,165 : INFO : worker thread finished; awaiting finish of 1 more threads\n",
      "2022-01-27 14:56:07,166 : INFO : worker thread finished; awaiting finish of 0 more threads\n",
      "2022-01-27 14:56:07,166 : INFO : EPOCH - 7 : training on 24693510 raw words (18753775 effective words) took 30.6s, 613212 effective words/s\n",
      "2022-01-27 14:56:08,182 : INFO : EPOCH 8 - PROGRESS: at 2.64% examples, 497909 words/s, in_qsize 6, out_qsize 0\n",
      "2022-01-27 14:56:09,196 : INFO : EPOCH 8 - PROGRESS: at 5.64% examples, 528594 words/s, in_qsize 5, out_qsize 0\n",
      "2022-01-27 14:56:10,208 : INFO : EPOCH 8 - PROGRESS: at 8.57% examples, 532021 words/s, in_qsize 5, out_qsize 0\n",
      "2022-01-27 14:56:11,212 : INFO : EPOCH 8 - PROGRESS: at 11.54% examples, 539117 words/s, in_qsize 5, out_qsize 0\n",
      "2022-01-27 14:56:12,216 : INFO : EPOCH 8 - PROGRESS: at 14.46% examples, 541348 words/s, in_qsize 5, out_qsize 0\n",
      "2022-01-27 14:56:13,216 : INFO : EPOCH 8 - PROGRESS: at 17.36% examples, 544288 words/s, in_qsize 5, out_qsize 0\n",
      "2022-01-27 14:56:14,219 : INFO : EPOCH 8 - PROGRESS: at 20.22% examples, 543236 words/s, in_qsize 6, out_qsize 0\n",
      "2022-01-27 14:56:15,240 : INFO : EPOCH 8 - PROGRESS: at 23.70% examples, 552210 words/s, in_qsize 5, out_qsize 0\n",
      "2022-01-27 14:56:16,247 : INFO : EPOCH 8 - PROGRESS: at 27.03% examples, 560084 words/s, in_qsize 5, out_qsize 0\n",
      "2022-01-27 14:56:17,258 : INFO : EPOCH 8 - PROGRESS: at 30.35% examples, 564723 words/s, in_qsize 6, out_qsize 0\n",
      "2022-01-27 14:56:18,259 : INFO : EPOCH 8 - PROGRESS: at 33.49% examples, 568999 words/s, in_qsize 5, out_qsize 0\n",
      "2022-01-27 14:56:19,273 : INFO : EPOCH 8 - PROGRESS: at 36.87% examples, 574172 words/s, in_qsize 5, out_qsize 0\n",
      "2022-01-27 14:56:20,286 : INFO : EPOCH 8 - PROGRESS: at 40.24% examples, 579214 words/s, in_qsize 5, out_qsize 0\n",
      "2022-01-27 14:56:21,293 : INFO : EPOCH 8 - PROGRESS: at 43.67% examples, 581639 words/s, in_qsize 5, out_qsize 0\n",
      "2022-01-27 14:56:22,297 : INFO : EPOCH 8 - PROGRESS: at 47.01% examples, 583967 words/s, in_qsize 5, out_qsize 0\n",
      "2022-01-27 14:56:23,321 : INFO : EPOCH 8 - PROGRESS: at 50.33% examples, 584372 words/s, in_qsize 5, out_qsize 0\n",
      "2022-01-27 14:56:24,322 : INFO : EPOCH 8 - PROGRESS: at 53.63% examples, 586761 words/s, in_qsize 5, out_qsize 0\n"
     ]
    },
    {
     "name": "stderr",
     "output_type": "stream",
     "text": [
      "2022-01-27 14:56:25,329 : INFO : EPOCH 8 - PROGRESS: at 56.97% examples, 589857 words/s, in_qsize 6, out_qsize 0\n",
      "2022-01-27 14:56:26,333 : INFO : EPOCH 8 - PROGRESS: at 60.41% examples, 592065 words/s, in_qsize 5, out_qsize 0\n",
      "2022-01-27 14:56:27,347 : INFO : EPOCH 8 - PROGRESS: at 63.79% examples, 594506 words/s, in_qsize 6, out_qsize 0\n",
      "2022-01-27 14:56:28,350 : INFO : EPOCH 8 - PROGRESS: at 67.09% examples, 595284 words/s, in_qsize 6, out_qsize 0\n",
      "2022-01-27 14:56:29,364 : INFO : EPOCH 8 - PROGRESS: at 70.40% examples, 595235 words/s, in_qsize 5, out_qsize 0\n",
      "2022-01-27 14:56:30,377 : INFO : EPOCH 8 - PROGRESS: at 73.80% examples, 596465 words/s, in_qsize 5, out_qsize 0\n",
      "2022-01-27 14:56:31,378 : INFO : EPOCH 8 - PROGRESS: at 77.06% examples, 597049 words/s, in_qsize 5, out_qsize 0\n",
      "2022-01-27 14:56:32,378 : INFO : EPOCH 8 - PROGRESS: at 80.20% examples, 597656 words/s, in_qsize 5, out_qsize 0\n",
      "2022-01-27 14:56:33,389 : INFO : EPOCH 8 - PROGRESS: at 83.55% examples, 598499 words/s, in_qsize 5, out_qsize 0\n",
      "2022-01-27 14:56:34,403 : INFO : EPOCH 8 - PROGRESS: at 86.88% examples, 598958 words/s, in_qsize 5, out_qsize 0\n",
      "2022-01-27 14:56:35,409 : INFO : EPOCH 8 - PROGRESS: at 90.23% examples, 599621 words/s, in_qsize 6, out_qsize 0\n",
      "2022-01-27 14:56:36,411 : INFO : EPOCH 8 - PROGRESS: at 93.46% examples, 599535 words/s, in_qsize 5, out_qsize 0\n",
      "2022-01-27 14:56:37,414 : INFO : EPOCH 8 - PROGRESS: at 96.68% examples, 599657 words/s, in_qsize 5, out_qsize 0\n",
      "2022-01-27 14:56:38,410 : INFO : worker thread finished; awaiting finish of 2 more threads\n",
      "2022-01-27 14:56:38,415 : INFO : EPOCH 8 - PROGRESS: at 99.97% examples, 600117 words/s, in_qsize 1, out_qsize 1\n",
      "2022-01-27 14:56:38,416 : INFO : worker thread finished; awaiting finish of 1 more threads\n",
      "2022-01-27 14:56:38,417 : INFO : worker thread finished; awaiting finish of 0 more threads\n",
      "2022-01-27 14:56:38,418 : INFO : EPOCH - 8 : training on 24693510 raw words (18752381 effective words) took 31.2s, 600310 effective words/s\n",
      "2022-01-27 14:56:39,431 : INFO : EPOCH 9 - PROGRESS: at 2.44% examples, 461808 words/s, in_qsize 5, out_qsize 0\n",
      "2022-01-27 14:56:40,443 : INFO : EPOCH 9 - PROGRESS: at 5.20% examples, 490025 words/s, in_qsize 5, out_qsize 0\n",
      "2022-01-27 14:56:41,444 : INFO : EPOCH 9 - PROGRESS: at 8.14% examples, 510852 words/s, in_qsize 6, out_qsize 0\n",
      "2022-01-27 14:56:42,446 : INFO : EPOCH 9 - PROGRESS: at 11.22% examples, 524866 words/s, in_qsize 6, out_qsize 0\n",
      "2022-01-27 14:56:43,454 : INFO : EPOCH 9 - PROGRESS: at 14.14% examples, 531967 words/s, in_qsize 5, out_qsize 0\n",
      "2022-01-27 14:56:44,454 : INFO : EPOCH 9 - PROGRESS: at 17.29% examples, 540351 words/s, in_qsize 6, out_qsize 0\n",
      "2022-01-27 14:56:45,460 : INFO : EPOCH 9 - PROGRESS: at 20.60% examples, 553411 words/s, in_qsize 5, out_qsize 0\n",
      "2022-01-27 14:56:46,482 : INFO : EPOCH 9 - PROGRESS: at 24.05% examples, 563032 words/s, in_qsize 5, out_qsize 0\n",
      "2022-01-27 14:56:47,484 : INFO : EPOCH 9 - PROGRESS: at 27.47% examples, 572309 words/s, in_qsize 5, out_qsize 0\n",
      "2022-01-27 14:56:48,503 : INFO : EPOCH 9 - PROGRESS: at 30.84% examples, 578039 words/s, in_qsize 5, out_qsize 0\n",
      "2022-01-27 14:56:49,505 : INFO : EPOCH 9 - PROGRESS: at 34.21% examples, 583005 words/s, in_qsize 6, out_qsize 0\n",
      "2022-01-27 14:56:50,505 : INFO : EPOCH 9 - PROGRESS: at 37.66% examples, 587959 words/s, in_qsize 5, out_qsize 0\n",
      "2022-01-27 14:56:51,517 : INFO : EPOCH 9 - PROGRESS: at 40.99% examples, 590406 words/s, in_qsize 5, out_qsize 0\n",
      "2022-01-27 14:56:52,534 : INFO : EPOCH 9 - PROGRESS: at 44.31% examples, 591682 words/s, in_qsize 6, out_qsize 0\n",
      "2022-01-27 14:56:53,539 : INFO : EPOCH 9 - PROGRESS: at 47.48% examples, 591433 words/s, in_qsize 5, out_qsize 0\n",
      "2022-01-27 14:56:54,548 : INFO : EPOCH 9 - PROGRESS: at 50.81% examples, 591910 words/s, in_qsize 5, out_qsize 0\n",
      "2022-01-27 14:56:55,552 : INFO : EPOCH 9 - PROGRESS: at 54.18% examples, 593934 words/s, in_qsize 5, out_qsize 0\n",
      "2022-01-27 14:56:56,558 : INFO : EPOCH 9 - PROGRESS: at 57.50% examples, 595105 words/s, in_qsize 5, out_qsize 0\n",
      "2022-01-27 14:56:57,561 : INFO : EPOCH 9 - PROGRESS: at 60.80% examples, 596343 words/s, in_qsize 6, out_qsize 0\n",
      "2022-01-27 14:56:58,580 : INFO : EPOCH 9 - PROGRESS: at 64.10% examples, 596924 words/s, in_qsize 5, out_qsize 0\n",
      "2022-01-27 14:56:59,594 : INFO : EPOCH 9 - PROGRESS: at 67.58% examples, 598972 words/s, in_qsize 6, out_qsize 1\n",
      "2022-01-27 14:57:00,606 : INFO : EPOCH 9 - PROGRESS: at 71.01% examples, 600520 words/s, in_qsize 5, out_qsize 0\n",
      "2022-01-27 14:57:01,619 : INFO : EPOCH 9 - PROGRESS: at 74.50% examples, 602378 words/s, in_qsize 5, out_qsize 0\n",
      "2022-01-27 14:57:02,642 : INFO : EPOCH 9 - PROGRESS: at 77.94% examples, 603314 words/s, in_qsize 5, out_qsize 0\n",
      "2022-01-27 14:57:03,647 : INFO : EPOCH 9 - PROGRESS: at 81.26% examples, 604723 words/s, in_qsize 5, out_qsize 0\n",
      "2022-01-27 14:57:04,649 : INFO : EPOCH 9 - PROGRESS: at 84.47% examples, 604360 words/s, in_qsize 5, out_qsize 0\n",
      "2022-01-27 14:57:05,659 : INFO : EPOCH 9 - PROGRESS: at 87.82% examples, 604996 words/s, in_qsize 6, out_qsize 0\n",
      "2022-01-27 14:57:06,676 : INFO : EPOCH 9 - PROGRESS: at 91.04% examples, 604655 words/s, in_qsize 5, out_qsize 0\n",
      "2022-01-27 14:57:07,697 : INFO : EPOCH 9 - PROGRESS: at 94.27% examples, 604266 words/s, in_qsize 5, out_qsize 0\n",
      "2022-01-27 14:57:08,703 : INFO : EPOCH 9 - PROGRESS: at 97.52% examples, 604404 words/s, in_qsize 5, out_qsize 0\n",
      "2022-01-27 14:57:09,480 : INFO : worker thread finished; awaiting finish of 2 more threads\n",
      "2022-01-27 14:57:09,489 : INFO : worker thread finished; awaiting finish of 1 more threads\n",
      "2022-01-27 14:57:09,502 : INFO : worker thread finished; awaiting finish of 0 more threads\n",
      "2022-01-27 14:57:09,502 : INFO : EPOCH - 9 : training on 24693510 raw words (18753388 effective words) took 31.1s, 603556 effective words/s\n",
      "2022-01-27 14:57:10,543 : INFO : EPOCH 10 - PROGRESS: at 2.76% examples, 496757 words/s, in_qsize 5, out_qsize 0\n",
      "2022-01-27 14:57:11,562 : INFO : EPOCH 10 - PROGRESS: at 5.85% examples, 530410 words/s, in_qsize 5, out_qsize 0\n",
      "2022-01-27 14:57:12,580 : INFO : EPOCH 10 - PROGRESS: at 8.97% examples, 544295 words/s, in_qsize 6, out_qsize 0\n",
      "2022-01-27 14:57:13,585 : INFO : EPOCH 10 - PROGRESS: at 12.04% examples, 553138 words/s, in_qsize 6, out_qsize 0\n",
      "2022-01-27 14:57:14,588 : INFO : EPOCH 10 - PROGRESS: at 15.09% examples, 555289 words/s, in_qsize 5, out_qsize 0\n",
      "2022-01-27 14:57:15,595 : INFO : EPOCH 10 - PROGRESS: at 18.11% examples, 557611 words/s, in_qsize 6, out_qsize 0\n",
      "2022-01-27 14:57:16,613 : INFO : EPOCH 10 - PROGRESS: at 21.46% examples, 565284 words/s, in_qsize 5, out_qsize 0\n",
      "2022-01-27 14:57:17,614 : INFO : EPOCH 10 - PROGRESS: at 24.82% examples, 573617 words/s, in_qsize 6, out_qsize 0\n",
      "2022-01-27 14:57:18,629 : INFO : EPOCH 10 - PROGRESS: at 28.11% examples, 579173 words/s, in_qsize 5, out_qsize 0\n",
      "2022-01-27 14:57:19,634 : INFO : EPOCH 10 - PROGRESS: at 31.48% examples, 584214 words/s, in_qsize 6, out_qsize 0\n",
      "2022-01-27 14:57:20,646 : INFO : EPOCH 10 - PROGRESS: at 34.79% examples, 588685 words/s, in_qsize 5, out_qsize 0\n",
      "2022-01-27 14:57:21,647 : INFO : EPOCH 10 - PROGRESS: at 38.13% examples, 593119 words/s, in_qsize 6, out_qsize 0\n",
      "2022-01-27 14:57:22,666 : INFO : EPOCH 10 - PROGRESS: at 41.57% examples, 597131 words/s, in_qsize 5, out_qsize 0\n",
      "2022-01-27 14:57:23,678 : INFO : EPOCH 10 - PROGRESS: at 44.68% examples, 595097 words/s, in_qsize 5, out_qsize 0\n",
      "2022-01-27 14:57:24,680 : INFO : EPOCH 10 - PROGRESS: at 47.84% examples, 595485 words/s, in_qsize 5, out_qsize 0\n",
      "2022-01-27 14:57:25,701 : INFO : EPOCH 10 - PROGRESS: at 51.00% examples, 594297 words/s, in_qsize 6, out_qsize 0\n",
      "2022-01-27 14:57:26,721 : INFO : EPOCH 10 - PROGRESS: at 54.34% examples, 595401 words/s, in_qsize 5, out_qsize 0\n",
      "2022-01-27 14:57:27,734 : INFO : EPOCH 10 - PROGRESS: at 57.49% examples, 594947 words/s, in_qsize 5, out_qsize 0\n",
      "2022-01-27 14:57:28,738 : INFO : EPOCH 10 - PROGRESS: at 60.76% examples, 595729 words/s, in_qsize 6, out_qsize 0\n",
      "2022-01-27 14:57:29,742 : INFO : EPOCH 10 - PROGRESS: at 63.98% examples, 595740 words/s, in_qsize 5, out_qsize 0\n",
      "2022-01-27 14:57:30,744 : INFO : EPOCH 10 - PROGRESS: at 67.25% examples, 595441 words/s, in_qsize 5, out_qsize 0\n",
      "2022-01-27 14:57:31,747 : INFO : EPOCH 10 - PROGRESS: at 70.69% examples, 597265 words/s, in_qsize 5, out_qsize 0\n"
     ]
    },
    {
     "name": "stderr",
     "output_type": "stream",
     "text": [
      "2022-01-27 14:57:32,763 : INFO : EPOCH 10 - PROGRESS: at 74.05% examples, 598107 words/s, in_qsize 5, out_qsize 0\n",
      "2022-01-27 14:57:33,779 : INFO : EPOCH 10 - PROGRESS: at 77.38% examples, 598909 words/s, in_qsize 6, out_qsize 0\n",
      "2022-01-27 14:57:34,782 : INFO : EPOCH 10 - PROGRESS: at 80.76% examples, 599735 words/s, in_qsize 6, out_qsize 0\n",
      "2022-01-27 14:57:35,791 : INFO : EPOCH 10 - PROGRESS: at 84.04% examples, 600277 words/s, in_qsize 6, out_qsize 0\n",
      "2022-01-27 14:57:36,796 : INFO : EPOCH 10 - PROGRESS: at 87.51% examples, 601651 words/s, in_qsize 6, out_qsize 0\n",
      "2022-01-27 14:57:37,798 : INFO : EPOCH 10 - PROGRESS: at 90.89% examples, 602784 words/s, in_qsize 5, out_qsize 0\n",
      "2022-01-27 14:57:38,806 : INFO : EPOCH 10 - PROGRESS: at 94.40% examples, 604268 words/s, in_qsize 6, out_qsize 0\n",
      "2022-01-27 14:57:39,809 : INFO : EPOCH 10 - PROGRESS: at 97.77% examples, 605404 words/s, in_qsize 6, out_qsize 0\n",
      "2022-01-27 14:57:40,422 : INFO : worker thread finished; awaiting finish of 2 more threads\n",
      "2022-01-27 14:57:40,428 : INFO : worker thread finished; awaiting finish of 1 more threads\n",
      "2022-01-27 14:57:40,436 : INFO : worker thread finished; awaiting finish of 0 more threads\n",
      "2022-01-27 14:57:40,437 : INFO : EPOCH - 10 : training on 24693510 raw words (18751789 effective words) took 30.9s, 606511 effective words/s\n",
      "2022-01-27 14:57:40,438 : INFO : Doc2Vec lifecycle event {'msg': 'training on 246935100 raw words (187540227 effective words) took 307.5s, 609949 effective words/s', 'datetime': '2022-01-27T14:57:40.438503', 'gensim': '4.1.2', 'python': '3.8.8 (default, Apr 13 2021, 15:08:03) [MSC v.1916 64 bit (AMD64)]', 'platform': 'Windows-10-10.0.22538-SP0', 'event': 'train'}\n",
      "2022-01-27 14:57:40,439 : INFO : Doc2Vec lifecycle event {'params': 'Doc2Vec(dbow,d50,n5,hs,mc5,s0.001,t3)', 'datetime': '2022-01-27T14:57:40.439523', 'gensim': '4.1.2', 'python': '3.8.8 (default, Apr 13 2021, 15:08:03) [MSC v.1916 64 bit (AMD64)]', 'platform': 'Windows-10-10.0.22538-SP0', 'event': 'created'}\n"
     ]
    }
   ],
   "source": [
    "permuter = PermuteSentences(unsup_sentences) \n",
    "model = Doc2Vec(permuter, dm=0, hs=1, vector_size=50)"
   ]
  },
  {
   "cell_type": "code",
   "execution_count": 15,
   "metadata": {},
   "outputs": [
    {
     "name": "stderr",
     "output_type": "stream",
     "text": [
      "2022-01-27 14:57:40,451 : INFO : Doc2Vec lifecycle event {'fname_or_handle': 'reviews.d2v', 'separately': 'None', 'sep_limit': 10485760, 'ignore': frozenset(), 'datetime': '2022-01-27T14:57:40.451503', 'gensim': '4.1.2', 'python': '3.8.8 (default, Apr 13 2021, 15:08:03) [MSC v.1916 64 bit (AMD64)]', 'platform': 'Windows-10-10.0.22538-SP0', 'event': 'saving'}\n",
      "2022-01-27 14:57:40,454 : INFO : not storing attribute cum_table\n",
      "2022-01-27 14:57:41,046 : INFO : saved reviews.d2v\n"
     ]
    }
   ],
   "source": [
    "model.save('reviews.d2v')\n",
    "# menyimpan model dalam bentuk *.d2v, berfungsi untuk digunakan kembali : model = Doc2Vec.load('reviews.d2v') "
   ]
  },
  {
   "cell_type": "code",
   "execution_count": 16,
   "metadata": {},
   "outputs": [
    {
     "data": {
      "text/plain": [
       "array([-0.21008383, -0.09705748,  0.03777231,  0.03344745,  0.29576245,\n",
       "        0.27663946,  0.21059437,  0.13903672,  0.1214092 ,  0.8699159 ,\n",
       "       -0.31931582, -0.3278709 , -0.49732885,  0.00762915, -0.28329846,\n",
       "        0.03643729, -0.02731987, -0.30725703,  0.41931066,  0.2034981 ,\n",
       "        0.2524002 ,  0.12337118,  0.12887421,  0.01535648, -0.04059077,\n",
       "        0.24113612, -0.1707031 , -0.17841776, -0.15252005,  0.5027428 ,\n",
       "        0.38536066, -0.2380162 ,  0.23833673, -0.2370381 ,  0.02904741,\n",
       "       -0.27599928,  0.47388935, -0.12521774,  0.04452138,  0.13457885,\n",
       "       -0.04406448, -0.2555967 , -0.2238834 , -0.22984448,  0.11596889,\n",
       "       -0.12569173, -0.16880333,  0.06180951,  0.39734617,  0.11797499],\n",
       "      dtype=float32)"
      ]
     },
     "execution_count": 16,
     "metadata": {},
     "output_type": "execute_result"
    }
   ],
   "source": [
    "model.infer_vector(ekstrak_kata(\"This place is not worth your time, let alone Vegas.\")) "
   ]
  },
  {
   "cell_type": "code",
   "execution_count": 17,
   "metadata": {},
   "outputs": [
    {
     "data": {
      "text/plain": [
       "array([[0.40617573]], dtype=float32)"
      ]
     },
     "execution_count": 17,
     "metadata": {},
     "output_type": "execute_result"
    }
   ],
   "source": [
    "cosine_similarity(\n",
    "    [model.infer_vector(ekstrak_kata(\"This place is not worth your time, let alone Vegas.\"))],\n",
    "    [model.infer_vector(ekstrak_kata(\"Service sucks.\"))])"
   ]
  },
  {
   "cell_type": "code",
   "execution_count": 18,
   "metadata": {},
   "outputs": [
    {
     "data": {
      "text/plain": [
       "array([[0.25987488]], dtype=float32)"
      ]
     },
     "execution_count": 18,
     "metadata": {},
     "output_type": "execute_result"
    }
   ],
   "source": [
    "cosine_similarity(\n",
    "    [model.infer_vector(ekstrak_kata(\"Highly recommended.\"))],\n",
    "    [model.infer_vector(ekstrak_kata(\"Service sucks.\"))])"
   ]
  },
  {
   "cell_type": "code",
   "execution_count": 19,
   "metadata": {},
   "outputs": [],
   "source": [
    "sentences = []\n",
    "sentvecs = []\n",
    "sentiments = []\n",
    "for fname in [\"yelp\", \"amazon_cells\", \"imdb\"]: \n",
    "    with open(\"sentiment labelled sentences/%s_labelled.txt\" % fname, encoding='UTF-8') as f:\n",
    "        for i, line in enumerate(f):\n",
    "            line_split = line.strip().split('\\t')\n",
    "            sentences.append(line_split[0])\n",
    "            words = ekstrak_kata(line_split[0])\n",
    "            sentvecs.append(model.infer_vector(words, epochs=10)) # create a vector for this document\n",
    "            sentiments.append(int(line_split[1]))\n",
    "            \n",
    "# membuat fungsi acak dengan kombinasi setences, setvecs, dam stiments\n",
    "combined = list(zip(sentences, sentvecs, sentiments))\n",
    "random.shuffle(combined)\n",
    "sentences, sentvecs, sentiments = zip(*combined)"
   ]
  },
  {
   "cell_type": "code",
   "execution_count": 20,
   "metadata": {},
   "outputs": [],
   "source": [
    "clf = KNeighborsClassifier(n_neighbors=9)\n",
    "clfrf = RandomForestClassifier()"
   ]
  },
  {
   "cell_type": "code",
   "execution_count": 21,
   "metadata": {},
   "outputs": [
    {
     "data": {
      "text/plain": [
       "(0.7863333333333333, 0.020477630071210232)"
      ]
     },
     "execution_count": 21,
     "metadata": {},
     "output_type": "execute_result"
    }
   ],
   "source": [
    "skor = cross_val_score(clf, sentvecs, sentiments, cv=5)\n",
    "np.mean(skor), np.std(skor) "
   ]
  },
  {
   "cell_type": "code",
   "execution_count": 22,
   "metadata": {},
   "outputs": [
    {
     "data": {
      "text/plain": [
       "(0.7899999999999999, 0.014337208778404385)"
      ]
     },
     "execution_count": 22,
     "metadata": {},
     "output_type": "execute_result"
    }
   ],
   "source": [
    "skor = cross_val_score(clfrf, sentvecs, sentiments, cv=5)\n",
    "np.mean(skor), np.std(skor)"
   ]
  },
  {
   "cell_type": "code",
   "execution_count": 23,
   "metadata": {},
   "outputs": [],
   "source": [
    "# kompile pembandingan kata dengan RadomForestClassifier\n",
    "pipeline = make_pipeline(CountVectorizer(), TfidfTransformer(), RandomForestClassifier())"
   ]
  },
  {
   "cell_type": "code",
   "execution_count": 24,
   "metadata": {},
   "outputs": [
    {
     "data": {
      "text/plain": [
       "(0.7966666666666667, 0.01773258143769383)"
      ]
     },
     "execution_count": 24,
     "metadata": {},
     "output_type": "execute_result"
    }
   ],
   "source": [
    "skor = cross_val_score(clfrf, sentvecs, sentiments, cv=5)\n",
    "np.mean(skor), np.std(skor)"
   ]
  }
 ],
 "metadata": {
  "colab": {
   "authorship_tag": "ABX9TyOrO0FZk8/+x1/G8TtFvX3q",
   "name": "Tugas Akhri AI.ipynb",
   "provenance": []
  },
  "kernelspec": {
   "display_name": "Python 3",
   "language": "python",
   "name": "python3"
  },
  "language_info": {
   "codemirror_mode": {
    "name": "ipython",
    "version": 3
   },
   "file_extension": ".py",
   "mimetype": "text/x-python",
   "name": "python",
   "nbconvert_exporter": "python",
   "pygments_lexer": "ipython3",
   "version": "3.8.8"
  }
 },
 "nbformat": 4,
 "nbformat_minor": 1
}
